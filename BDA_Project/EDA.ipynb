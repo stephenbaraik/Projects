{
 "cells": [
  {
   "cell_type": "code",
   "execution_count": 7,
   "id": "816df87a",
   "metadata": {},
   "outputs": [],
   "source": [
    "import pandas as pd\n",
    "import numpy as np\n"
   ]
  },
  {
   "cell_type": "code",
   "execution_count": 8,
   "id": "a9659ac0",
   "metadata": {},
   "outputs": [],
   "source": [
    "#Load Data\n",
    "df = pd.read_csv(r'C:\\Users\\Stevi\\OneDrive\\Documents\\Projects\\BDA Project\\Retail_Transaction_Dataset.csv')"
   ]
  },
  {
   "cell_type": "code",
   "execution_count": 10,
   "id": "529e1ec5",
   "metadata": {},
   "outputs": [
    {
     "name": "stdout",
     "output_type": "stream",
     "text": [
      "<class 'pandas.core.frame.DataFrame'>\n",
      "RangeIndex: 100000 entries, 0 to 99999\n",
      "Data columns (total 10 columns):\n",
      " #   Column              Non-Null Count   Dtype  \n",
      "---  ------              --------------   -----  \n",
      " 0   CustomerID          100000 non-null  int64  \n",
      " 1   ProductID           100000 non-null  object \n",
      " 2   Quantity            100000 non-null  int64  \n",
      " 3   Price               100000 non-null  float64\n",
      " 4   TransactionDate     100000 non-null  object \n",
      " 5   PaymentMethod       100000 non-null  object \n",
      " 6   StoreLocation       100000 non-null  object \n",
      " 7   ProductCategory     100000 non-null  object \n",
      " 8   DiscountApplied(%)  100000 non-null  float64\n",
      " 9   TotalAmount         100000 non-null  float64\n",
      "dtypes: float64(3), int64(2), object(5)\n",
      "memory usage: 7.6+ MB\n"
     ]
    }
   ],
   "source": [
    "df.info()"
   ]
  },
  {
   "cell_type": "code",
   "execution_count": null,
   "id": "a1d6822a",
   "metadata": {},
   "outputs": [],
   "source": []
  }
 ],
 "metadata": {
  "kernelspec": {
   "display_name": ".venv",
   "language": "python",
   "name": "python3"
  },
  "language_info": {
   "codemirror_mode": {
    "name": "ipython",
    "version": 3
   },
   "file_extension": ".py",
   "mimetype": "text/x-python",
   "name": "python",
   "nbconvert_exporter": "python",
   "pygments_lexer": "ipython3",
   "version": "3.11.9"
  }
 },
 "nbformat": 4,
 "nbformat_minor": 5
}
