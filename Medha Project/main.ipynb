{
 "cells": [
  {
   "cell_type": "code",
   "execution_count": 41,
   "id": "06512b91",
   "metadata": {},
   "outputs": [],
   "source": [
    "import pandas as pd\n",
    "import numpy as np\n",
    "from scipy.sparse import csr_matrix\n",
    "from sklearn.metrics.pairwise import cosine_similarity"
   ]
  },
  {
   "cell_type": "code",
   "execution_count": 42,
   "id": "3090ecd7",
   "metadata": {},
   "outputs": [
    {
     "name": "stderr",
     "output_type": "stream",
     "text": [
      "C:\\Users\\Stevi\\AppData\\Local\\Temp\\ipykernel_7248\\953073624.py:3: DtypeWarning: Columns (3) have mixed types. Specify dtype option on import or set low_memory=False.\n",
      "  books = pd.read_csv(r\"C:\\Users\\Stevi\\OneDrive\\Documents\\Projects\\Medha Project\\Data\\Books.csv\")\n"
     ]
    }
   ],
   "source": [
    "# Load your full CSVs\n",
    "users = pd.read_csv(r\"C:\\Users\\Stevi\\OneDrive\\Documents\\Projects\\Medha Project\\Data\\Users.csv\")\n",
    "books = pd.read_csv(r\"C:\\Users\\Stevi\\OneDrive\\Documents\\Projects\\Medha Project\\Data\\Books.csv\")\n",
    "ratings = pd.read_csv(r\"C:\\Users\\Stevi\\OneDrive\\Documents\\Projects\\Medha Project\\Data\\Ratings.csv\")"
   ]
  },
  {
   "cell_type": "code",
   "execution_count": 43,
   "id": "95488030",
   "metadata": {},
   "outputs": [
    {
     "name": "stdout",
     "output_type": "stream",
     "text": [
      "Merged DataFrame shape: (1149780, 12)\n"
     ]
    },
    {
     "data": {
      "application/vnd.microsoft.datawrangler.viewer.v0+json": {
       "columns": [
        {
         "name": "index",
         "rawType": "int64",
         "type": "integer"
        },
        {
         "name": "User-ID",
         "rawType": "int64",
         "type": "integer"
        },
        {
         "name": "ISBN",
         "rawType": "object",
         "type": "string"
        },
        {
         "name": "Book-Rating",
         "rawType": "int64",
         "type": "integer"
        },
        {
         "name": "Book-Title",
         "rawType": "object",
         "type": "string"
        },
        {
         "name": "Book-Author",
         "rawType": "object",
         "type": "string"
        },
        {
         "name": "Year-Of-Publication",
         "rawType": "object",
         "type": "unknown"
        },
        {
         "name": "Publisher",
         "rawType": "object",
         "type": "string"
        },
        {
         "name": "Image-URL-S",
         "rawType": "object",
         "type": "string"
        },
        {
         "name": "Image-URL-M",
         "rawType": "object",
         "type": "string"
        },
        {
         "name": "Image-URL-L",
         "rawType": "object",
         "type": "string"
        },
        {
         "name": "Location",
         "rawType": "object",
         "type": "string"
        },
        {
         "name": "Age",
         "rawType": "float64",
         "type": "float"
        }
       ],
       "ref": "9f9dc654-875e-494a-8fdf-560d58535f38",
       "rows": [
        [
         "0",
         "276725",
         "034545104X",
         "0",
         "Flesh Tones: A Novel",
         "M. J. Rose",
         "2002",
         "Ballantine Books",
         "http://images.amazon.com/images/P/034545104X.01.THUMBZZZ.jpg",
         "http://images.amazon.com/images/P/034545104X.01.MZZZZZZZ.jpg",
         "http://images.amazon.com/images/P/034545104X.01.LZZZZZZZ.jpg",
         "tyler, texas, usa",
         null
        ],
        [
         "1",
         "276726",
         "0155061224",
         "5",
         "Rites of Passage",
         "Judith Rae",
         "2001",
         "Heinle",
         "http://images.amazon.com/images/P/0155061224.01.THUMBZZZ.jpg",
         "http://images.amazon.com/images/P/0155061224.01.MZZZZZZZ.jpg",
         "http://images.amazon.com/images/P/0155061224.01.LZZZZZZZ.jpg",
         "seattle, washington, usa",
         null
        ],
        [
         "2",
         "276727",
         "0446520802",
         "0",
         "The Notebook",
         "Nicholas Sparks",
         "1996",
         "Warner Books",
         "http://images.amazon.com/images/P/0446520802.01.THUMBZZZ.jpg",
         "http://images.amazon.com/images/P/0446520802.01.MZZZZZZZ.jpg",
         "http://images.amazon.com/images/P/0446520802.01.LZZZZZZZ.jpg",
         "h, new south wales, australia",
         "16.0"
        ],
        [
         "3",
         "276729",
         "052165615X",
         "3",
         "Help!: Level 1",
         "Philip Prowse",
         "1999",
         "Cambridge University Press",
         "http://images.amazon.com/images/P/052165615X.01.THUMBZZZ.jpg",
         "http://images.amazon.com/images/P/052165615X.01.MZZZZZZZ.jpg",
         "http://images.amazon.com/images/P/052165615X.01.LZZZZZZZ.jpg",
         "rijeka, n/a, croatia",
         "16.0"
        ],
        [
         "4",
         "276729",
         "0521795028",
         "6",
         "The Amsterdam Connection : Level 4 (Cambridge English Readers)",
         "Sue Leather",
         "2001",
         "Cambridge University Press",
         "http://images.amazon.com/images/P/0521795028.01.THUMBZZZ.jpg",
         "http://images.amazon.com/images/P/0521795028.01.MZZZZZZZ.jpg",
         "http://images.amazon.com/images/P/0521795028.01.LZZZZZZZ.jpg",
         "rijeka, n/a, croatia",
         "16.0"
        ]
       ],
       "shape": {
        "columns": 12,
        "rows": 5
       }
      },
      "text/html": [
       "<div>\n",
       "<style scoped>\n",
       "    .dataframe tbody tr th:only-of-type {\n",
       "        vertical-align: middle;\n",
       "    }\n",
       "\n",
       "    .dataframe tbody tr th {\n",
       "        vertical-align: top;\n",
       "    }\n",
       "\n",
       "    .dataframe thead th {\n",
       "        text-align: right;\n",
       "    }\n",
       "</style>\n",
       "<table border=\"1\" class=\"dataframe\">\n",
       "  <thead>\n",
       "    <tr style=\"text-align: right;\">\n",
       "      <th></th>\n",
       "      <th>User-ID</th>\n",
       "      <th>ISBN</th>\n",
       "      <th>Book-Rating</th>\n",
       "      <th>Book-Title</th>\n",
       "      <th>Book-Author</th>\n",
       "      <th>Year-Of-Publication</th>\n",
       "      <th>Publisher</th>\n",
       "      <th>Image-URL-S</th>\n",
       "      <th>Image-URL-M</th>\n",
       "      <th>Image-URL-L</th>\n",
       "      <th>Location</th>\n",
       "      <th>Age</th>\n",
       "    </tr>\n",
       "  </thead>\n",
       "  <tbody>\n",
       "    <tr>\n",
       "      <th>0</th>\n",
       "      <td>276725</td>\n",
       "      <td>034545104X</td>\n",
       "      <td>0</td>\n",
       "      <td>Flesh Tones: A Novel</td>\n",
       "      <td>M. J. Rose</td>\n",
       "      <td>2002</td>\n",
       "      <td>Ballantine Books</td>\n",
       "      <td>http://images.amazon.com/images/P/034545104X.0...</td>\n",
       "      <td>http://images.amazon.com/images/P/034545104X.0...</td>\n",
       "      <td>http://images.amazon.com/images/P/034545104X.0...</td>\n",
       "      <td>tyler, texas, usa</td>\n",
       "      <td>NaN</td>\n",
       "    </tr>\n",
       "    <tr>\n",
       "      <th>1</th>\n",
       "      <td>276726</td>\n",
       "      <td>0155061224</td>\n",
       "      <td>5</td>\n",
       "      <td>Rites of Passage</td>\n",
       "      <td>Judith Rae</td>\n",
       "      <td>2001</td>\n",
       "      <td>Heinle</td>\n",
       "      <td>http://images.amazon.com/images/P/0155061224.0...</td>\n",
       "      <td>http://images.amazon.com/images/P/0155061224.0...</td>\n",
       "      <td>http://images.amazon.com/images/P/0155061224.0...</td>\n",
       "      <td>seattle, washington, usa</td>\n",
       "      <td>NaN</td>\n",
       "    </tr>\n",
       "    <tr>\n",
       "      <th>2</th>\n",
       "      <td>276727</td>\n",
       "      <td>0446520802</td>\n",
       "      <td>0</td>\n",
       "      <td>The Notebook</td>\n",
       "      <td>Nicholas Sparks</td>\n",
       "      <td>1996</td>\n",
       "      <td>Warner Books</td>\n",
       "      <td>http://images.amazon.com/images/P/0446520802.0...</td>\n",
       "      <td>http://images.amazon.com/images/P/0446520802.0...</td>\n",
       "      <td>http://images.amazon.com/images/P/0446520802.0...</td>\n",
       "      <td>h, new south wales, australia</td>\n",
       "      <td>16.0</td>\n",
       "    </tr>\n",
       "    <tr>\n",
       "      <th>3</th>\n",
       "      <td>276729</td>\n",
       "      <td>052165615X</td>\n",
       "      <td>3</td>\n",
       "      <td>Help!: Level 1</td>\n",
       "      <td>Philip Prowse</td>\n",
       "      <td>1999</td>\n",
       "      <td>Cambridge University Press</td>\n",
       "      <td>http://images.amazon.com/images/P/052165615X.0...</td>\n",
       "      <td>http://images.amazon.com/images/P/052165615X.0...</td>\n",
       "      <td>http://images.amazon.com/images/P/052165615X.0...</td>\n",
       "      <td>rijeka, n/a, croatia</td>\n",
       "      <td>16.0</td>\n",
       "    </tr>\n",
       "    <tr>\n",
       "      <th>4</th>\n",
       "      <td>276729</td>\n",
       "      <td>0521795028</td>\n",
       "      <td>6</td>\n",
       "      <td>The Amsterdam Connection : Level 4 (Cambridge ...</td>\n",
       "      <td>Sue Leather</td>\n",
       "      <td>2001</td>\n",
       "      <td>Cambridge University Press</td>\n",
       "      <td>http://images.amazon.com/images/P/0521795028.0...</td>\n",
       "      <td>http://images.amazon.com/images/P/0521795028.0...</td>\n",
       "      <td>http://images.amazon.com/images/P/0521795028.0...</td>\n",
       "      <td>rijeka, n/a, croatia</td>\n",
       "      <td>16.0</td>\n",
       "    </tr>\n",
       "  </tbody>\n",
       "</table>\n",
       "</div>"
      ],
      "text/plain": [
       "   User-ID        ISBN  Book-Rating  \\\n",
       "0   276725  034545104X            0   \n",
       "1   276726  0155061224            5   \n",
       "2   276727  0446520802            0   \n",
       "3   276729  052165615X            3   \n",
       "4   276729  0521795028            6   \n",
       "\n",
       "                                          Book-Title      Book-Author  \\\n",
       "0                               Flesh Tones: A Novel       M. J. Rose   \n",
       "1                                   Rites of Passage       Judith Rae   \n",
       "2                                       The Notebook  Nicholas Sparks   \n",
       "3                                     Help!: Level 1    Philip Prowse   \n",
       "4  The Amsterdam Connection : Level 4 (Cambridge ...      Sue Leather   \n",
       "\n",
       "  Year-Of-Publication                   Publisher  \\\n",
       "0                2002            Ballantine Books   \n",
       "1                2001                      Heinle   \n",
       "2                1996                Warner Books   \n",
       "3                1999  Cambridge University Press   \n",
       "4                2001  Cambridge University Press   \n",
       "\n",
       "                                         Image-URL-S  \\\n",
       "0  http://images.amazon.com/images/P/034545104X.0...   \n",
       "1  http://images.amazon.com/images/P/0155061224.0...   \n",
       "2  http://images.amazon.com/images/P/0446520802.0...   \n",
       "3  http://images.amazon.com/images/P/052165615X.0...   \n",
       "4  http://images.amazon.com/images/P/0521795028.0...   \n",
       "\n",
       "                                         Image-URL-M  \\\n",
       "0  http://images.amazon.com/images/P/034545104X.0...   \n",
       "1  http://images.amazon.com/images/P/0155061224.0...   \n",
       "2  http://images.amazon.com/images/P/0446520802.0...   \n",
       "3  http://images.amazon.com/images/P/052165615X.0...   \n",
       "4  http://images.amazon.com/images/P/0521795028.0...   \n",
       "\n",
       "                                         Image-URL-L  \\\n",
       "0  http://images.amazon.com/images/P/034545104X.0...   \n",
       "1  http://images.amazon.com/images/P/0155061224.0...   \n",
       "2  http://images.amazon.com/images/P/0446520802.0...   \n",
       "3  http://images.amazon.com/images/P/052165615X.0...   \n",
       "4  http://images.amazon.com/images/P/0521795028.0...   \n",
       "\n",
       "                        Location   Age  \n",
       "0              tyler, texas, usa   NaN  \n",
       "1       seattle, washington, usa   NaN  \n",
       "2  h, new south wales, australia  16.0  \n",
       "3           rijeka, n/a, croatia  16.0  \n",
       "4           rijeka, n/a, croatia  16.0  "
      ]
     },
     "execution_count": 43,
     "metadata": {},
     "output_type": "execute_result"
    }
   ],
   "source": [
    "# Merge ratings with books first (using ISBN as the key)\n",
    "merged_df = ratings.merge(books, on='ISBN', how='left')\n",
    "\n",
    "# Then merge with users (using User-ID as the key)\n",
    "merged_df = merged_df.merge(users, on='User-ID', how='left')\n",
    "\n",
    "# View the result\n",
    "print(f\"Merged DataFrame shape: {merged_df.shape}\")\n",
    "merged_df.head()"
   ]
  },
  {
   "cell_type": "code",
   "execution_count": 44,
   "id": "47d59da1",
   "metadata": {},
   "outputs": [],
   "source": [
    "df2 = merged_df.drop(columns=['Book-Title','Book-Author', 'Year-Of-Publication', 'Publisher', 'Location', 'Age','Image-URL-S', 'Image-URL-M', 'Image-URL-L'])"
   ]
  },
  {
   "cell_type": "code",
   "execution_count": 45,
   "id": "0ec3bf45",
   "metadata": {},
   "outputs": [
    {
     "name": "stdout",
     "output_type": "stream",
     "text": [
      "<class 'pandas.core.frame.DataFrame'>\n",
      "RangeIndex: 1149780 entries, 0 to 1149779\n",
      "Data columns (total 3 columns):\n",
      " #   Column       Non-Null Count    Dtype \n",
      "---  ------       --------------    ----- \n",
      " 0   User-ID      1149780 non-null  int64 \n",
      " 1   ISBN         1149780 non-null  object\n",
      " 2   Book-Rating  1149780 non-null  int64 \n",
      "dtypes: int64(2), object(1)\n",
      "memory usage: 26.3+ MB\n"
     ]
    }
   ],
   "source": [
    "df2.info()"
   ]
  },
  {
   "cell_type": "code",
   "execution_count": 46,
   "id": "859f5ec9",
   "metadata": {},
   "outputs": [],
   "source": [
    "# Create mappings for users and books\n",
    "user_ids = df2['User-ID'].unique()\n",
    "book_ids = df2['ISBN'].unique()\n",
    "\n",
    "user_map = {user_id: idx for idx, user_id in enumerate(user_ids)}\n",
    "book_map = {book_id: idx for idx, book_id in enumerate(book_ids)}\n",
    "\n",
    "# Map to indices\n",
    "df2['user_idx'] = df2['User-ID'].map(user_map)\n",
    "df2['book_idx'] = df2['ISBN'].map(book_map)\n",
    "\n",
    "# Create sparse matrix\n",
    "num_users = len(user_ids)\n",
    "num_books = len(book_ids)"
   ]
  },
  {
   "cell_type": "code",
   "execution_count": 47,
   "id": "136ecd1f",
   "metadata": {},
   "outputs": [
    {
     "name": "stdout",
     "output_type": "stream",
     "text": [
      "Sparse matrix shape: (105283, 340556)\n",
      "Matrix density: 0.0032%\n"
     ]
    }
   ],
   "source": [
    "user_item_sparse = csr_matrix(\n",
    "    (df2['Book-Rating'].values, (df2['user_idx'].values, df2['book_idx'].values)),\n",
    "    shape=(num_users, num_books)\n",
    ")\n",
    "\n",
    "print(f\"Sparse matrix shape: {user_item_sparse.shape}\")\n",
    "print(f\"Matrix density: {user_item_sparse.nnz / (num_users * num_books):.4%}\")"
   ]
  },
  {
   "cell_type": "code",
   "execution_count": 48,
   "id": "4b88abaf",
   "metadata": {},
   "outputs": [],
   "source": [
    "# Calculate user similarity (this may still be slow for very large datasets)\n",
    "# Consider sampling or using approximate methods\n",
    "user_similarity_sparse = cosine_similarity(user_item_sparse, dense_output=False)\n",
    "\n",
    "# Function to get recommendations using sparse matrix\n",
    "def get_recommendations_sparse(user_id, top_n=10, n_similar_users=20):\n",
    "    if user_id not in user_map:\n",
    "        return f\"User {user_id} not found\"\n",
    "    \n",
    "    user_idx = user_map[user_id]\n",
    "    \n",
    "    # Get similarity scores for this user\n",
    "    user_sim_scores = user_similarity_sparse[user_idx].toarray().flatten()\n",
    "    \n",
    "    # Get top similar users (excluding self)\n",
    "    similar_user_indices = np.argsort(user_sim_scores)[::-1][1:n_similar_users+1]\n",
    "    similar_scores = user_sim_scores[similar_user_indices]\n",
    "    \n",
    "    # Get weighted ratings from similar users\n",
    "    similar_users_ratings = user_item_sparse[similar_user_indices]\n",
    "    weighted_sum = similar_users_ratings.T.dot(similar_scores)\n",
    "    \n",
    "    # Convert to array if it's a matrix\n",
    "    if hasattr(weighted_sum, 'A1'):\n",
    "        weighted_ratings = (weighted_sum / similar_scores.sum()).A1\n",
    "    else:\n",
    "        weighted_ratings = (weighted_sum / similar_scores.sum()).flatten()\n",
    "    \n",
    "    # Remove books already rated by the user\n",
    "    user_rated = user_item_sparse[user_idx].nonzero()[1]\n",
    "    weighted_ratings[user_rated] = -1\n",
    "    \n",
    "    # Get top recommendations\n",
    "    top_book_indices = np.argsort(weighted_ratings)[::-1][:top_n]\n",
    "    top_scores = weighted_ratings[top_book_indices]\n",
    "    \n",
    "    # Map back to ISBNs\n",
    "    reverse_book_map = {idx: book_id for book_id, idx in book_map.items()}\n",
    "    recommended_isbns = [reverse_book_map[idx] for idx in top_book_indices]\n",
    "    \n",
    "    return pd.DataFrame({\n",
    "        'ISBN': recommended_isbns,\n",
    "        'Score': top_scores\n",
    "    })"
   ]
  },
  {
   "cell_type": "code",
   "execution_count": 49,
   "id": "5bf03e6a",
   "metadata": {},
   "outputs": [
    {
     "name": "stdout",
     "output_type": "stream",
     "text": [
      "\n",
      "Recommendations for User 276800:\n",
      "          ISBN  Score\n",
      "0   0385086954   10.0\n",
      "1  08883961962   10.0\n",
      "2   0385182449   10.0\n",
      "3   0452279178   10.0\n",
      "4   0385318294   10.0\n",
      "5   0446525502   10.0\n",
      "6   0446531332   10.0\n",
      "7   0440202477   10.0\n",
      "8   0786890436   10.0\n",
      "9   0670272663   10.0\n"
     ]
    }
   ],
   "source": [
    "# Test the function\n",
    "sample_user = df2['User-ID'].iloc[100]\n",
    "recommendations = get_recommendations_sparse(sample_user, top_n=10)\n",
    "print(f\"\\nRecommendations for User {sample_user}:\")\n",
    "print(recommendations)"
   ]
  },
  {
   "cell_type": "code",
   "execution_count": 51,
   "id": "850a1f82",
   "metadata": {},
   "outputs": [
    {
     "name": "stdout",
     "output_type": "stream",
     "text": [
      "\n",
      "With book details:\n"
     ]
    },
    {
     "data": {
      "application/vnd.microsoft.datawrangler.viewer.v0+json": {
       "columns": [
        {
         "name": "index",
         "rawType": "int64",
         "type": "integer"
        },
        {
         "name": "ISBN",
         "rawType": "object",
         "type": "string"
        },
        {
         "name": "Score",
         "rawType": "float64",
         "type": "float"
        },
        {
         "name": "Book-Title",
         "rawType": "object",
         "type": "string"
        },
        {
         "name": "Book-Author",
         "rawType": "object",
         "type": "string"
        }
       ],
       "ref": "9c41031b-74bf-42fb-8a4a-aad095daabeb",
       "rows": [
        [
         "0",
         "0385086954",
         "10.0",
         "Carrie",
         "Stephen King"
        ],
        [
         "1",
         "0385182449",
         "10.0",
         "Pet Sematary",
         "Stephen King"
        ],
        [
         "2",
         "0452279178",
         "10.0",
         "Wizard and Glass (The Dark Tower, Book 4)",
         "Stephen King"
        ],
        [
         "3",
         "0385318294",
         "10.0",
         "A Dry Spell",
         "Susie Moloney"
        ],
        [
         "4",
         "0446525502",
         "10.0",
         "The Rescue",
         "Nicholas Sparks"
        ],
        [
         "5",
         "0446531332",
         "10.0",
         "Nights in Rodanthe",
         "Nicholas Sparks"
        ],
        [
         "6",
         "0440202477",
         "10.0",
         "Sleeping Tiger",
         "ROSAMUNDE PILCHER"
        ],
        [
         "7",
         "0786890436",
         "10.0",
         "The Diary of Ellen Rimbauer: My Life at Rose Red",
         "Ellen Rimbauer"
        ],
        [
         "8",
         "0670272663",
         "10.0",
         "Different Seasons",
         "Stephen King"
        ]
       ],
       "shape": {
        "columns": 4,
        "rows": 9
       }
      },
      "text/html": [
       "<div>\n",
       "<style scoped>\n",
       "    .dataframe tbody tr th:only-of-type {\n",
       "        vertical-align: middle;\n",
       "    }\n",
       "\n",
       "    .dataframe tbody tr th {\n",
       "        vertical-align: top;\n",
       "    }\n",
       "\n",
       "    .dataframe thead th {\n",
       "        text-align: right;\n",
       "    }\n",
       "</style>\n",
       "<table border=\"1\" class=\"dataframe\">\n",
       "  <thead>\n",
       "    <tr style=\"text-align: right;\">\n",
       "      <th></th>\n",
       "      <th>ISBN</th>\n",
       "      <th>Score</th>\n",
       "      <th>Book-Title</th>\n",
       "      <th>Book-Author</th>\n",
       "    </tr>\n",
       "  </thead>\n",
       "  <tbody>\n",
       "    <tr>\n",
       "      <th>0</th>\n",
       "      <td>0385086954</td>\n",
       "      <td>10.0</td>\n",
       "      <td>Carrie</td>\n",
       "      <td>Stephen King</td>\n",
       "    </tr>\n",
       "    <tr>\n",
       "      <th>1</th>\n",
       "      <td>0385182449</td>\n",
       "      <td>10.0</td>\n",
       "      <td>Pet Sematary</td>\n",
       "      <td>Stephen King</td>\n",
       "    </tr>\n",
       "    <tr>\n",
       "      <th>2</th>\n",
       "      <td>0452279178</td>\n",
       "      <td>10.0</td>\n",
       "      <td>Wizard and Glass (The Dark Tower, Book 4)</td>\n",
       "      <td>Stephen King</td>\n",
       "    </tr>\n",
       "    <tr>\n",
       "      <th>3</th>\n",
       "      <td>0385318294</td>\n",
       "      <td>10.0</td>\n",
       "      <td>A Dry Spell</td>\n",
       "      <td>Susie Moloney</td>\n",
       "    </tr>\n",
       "    <tr>\n",
       "      <th>4</th>\n",
       "      <td>0446525502</td>\n",
       "      <td>10.0</td>\n",
       "      <td>The Rescue</td>\n",
       "      <td>Nicholas Sparks</td>\n",
       "    </tr>\n",
       "    <tr>\n",
       "      <th>5</th>\n",
       "      <td>0446531332</td>\n",
       "      <td>10.0</td>\n",
       "      <td>Nights in Rodanthe</td>\n",
       "      <td>Nicholas Sparks</td>\n",
       "    </tr>\n",
       "    <tr>\n",
       "      <th>6</th>\n",
       "      <td>0440202477</td>\n",
       "      <td>10.0</td>\n",
       "      <td>Sleeping Tiger</td>\n",
       "      <td>ROSAMUNDE PILCHER</td>\n",
       "    </tr>\n",
       "    <tr>\n",
       "      <th>7</th>\n",
       "      <td>0786890436</td>\n",
       "      <td>10.0</td>\n",
       "      <td>The Diary of Ellen Rimbauer: My Life at Rose Red</td>\n",
       "      <td>Ellen Rimbauer</td>\n",
       "    </tr>\n",
       "    <tr>\n",
       "      <th>8</th>\n",
       "      <td>0670272663</td>\n",
       "      <td>10.0</td>\n",
       "      <td>Different Seasons</td>\n",
       "      <td>Stephen King</td>\n",
       "    </tr>\n",
       "  </tbody>\n",
       "</table>\n",
       "</div>"
      ],
      "text/plain": [
       "         ISBN  Score                                        Book-Title  \\\n",
       "0  0385086954   10.0                                            Carrie   \n",
       "1  0385182449   10.0                                      Pet Sematary   \n",
       "2  0452279178   10.0         Wizard and Glass (The Dark Tower, Book 4)   \n",
       "3  0385318294   10.0                                       A Dry Spell   \n",
       "4  0446525502   10.0                                        The Rescue   \n",
       "5  0446531332   10.0                                Nights in Rodanthe   \n",
       "6  0440202477   10.0                                    Sleeping Tiger   \n",
       "7  0786890436   10.0  The Diary of Ellen Rimbauer: My Life at Rose Red   \n",
       "8  0670272663   10.0                                 Different Seasons   \n",
       "\n",
       "         Book-Author  \n",
       "0       Stephen King  \n",
       "1       Stephen King  \n",
       "2       Stephen King  \n",
       "3      Susie Moloney  \n",
       "4    Nicholas Sparks  \n",
       "5    Nicholas Sparks  \n",
       "6  ROSAMUNDE PILCHER  \n",
       "7     Ellen Rimbauer  \n",
       "8       Stephen King  "
      ]
     },
     "metadata": {},
     "output_type": "display_data"
    }
   ],
   "source": [
    "# Get book details\n",
    "recommended_books = books[books['ISBN'].isin(recommendations['ISBN'])][['ISBN', 'Book-Title', 'Book-Author']]\n",
    "result = recommendations.merge(recommended_books, on='ISBN')\n",
    "print(\"\\nWith book details:\")\n",
    "display(result)"
   ]
  }
 ],
 "metadata": {
  "kernelspec": {
   "display_name": ".venv",
   "language": "python",
   "name": "python3"
  },
  "language_info": {
   "codemirror_mode": {
    "name": "ipython",
    "version": 3
   },
   "file_extension": ".py",
   "mimetype": "text/x-python",
   "name": "python",
   "nbconvert_exporter": "python",
   "pygments_lexer": "ipython3",
   "version": "3.11.9"
  }
 },
 "nbformat": 4,
 "nbformat_minor": 5
}
