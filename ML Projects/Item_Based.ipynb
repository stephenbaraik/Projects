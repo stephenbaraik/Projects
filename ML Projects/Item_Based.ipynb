{
 "cells": [
  {
   "cell_type": "code",
   "execution_count": 1,
   "id": "86fc8246",
   "metadata": {},
   "outputs": [],
   "source": [
    "from surprise import Dataset, Reader, KNNBasic, accuracy\n",
    "from surprise.model_selection import train_test_split\n",
    "import pandas as pd\n",
    "import numpy as np"
   ]
  },
  {
   "cell_type": "code",
   "execution_count": 2,
   "id": "b16c9f86",
   "metadata": {},
   "outputs": [],
   "source": [
    "# Step 1: Load dataset\n",
    "ratings = pd.read_csv(\"/home/steve/Documents/Projects/Projects/ML Projects/Data/ratings.csv\")\n",
    "\n",
    "# Surprise needs a Reader with rating scale\n",
    "reader = Reader(rating_scale=(0.5, 5.0))\n",
    "data = Dataset.load_from_df(ratings[['userId', 'movieId', 'rating']], reader)"
   ]
  },
  {
   "cell_type": "code",
   "execution_count": 3,
   "id": "8887c557",
   "metadata": {},
   "outputs": [],
   "source": [
    "# Step 2: Train-test split\n",
    "trainset, testset = train_test_split(data, test_size=0.2, random_state=42)"
   ]
  },
  {
   "cell_type": "code",
   "execution_count": 4,
   "id": "323f298a",
   "metadata": {},
   "outputs": [
    {
     "name": "stdout",
     "output_type": "stream",
     "text": [
      "Computing the cosine similarity matrix...\n",
      "Done computing similarity matrix.\n"
     ]
    },
    {
     "data": {
      "text/plain": [
       "<surprise.prediction_algorithms.knns.KNNBasic at 0x7be4c3ae3510>"
      ]
     },
     "execution_count": 4,
     "metadata": {},
     "output_type": "execute_result"
    }
   ],
   "source": [
    "# Step 3: User-Based CF algorithm\n",
    "sim_options = {\n",
    "    \"name\": \"cosine\",   # similarity metric: 'cosine', 'pearson', 'msd'\n",
    "    \"user_based\": False  # True = User-based CF, False = Item-based CF\n",
    "}\n",
    "algo = KNNBasic(sim_options=sim_options)\n",
    "\n",
    "# Train the model\n",
    "algo.fit(trainset)"
   ]
  },
  {
   "cell_type": "code",
   "execution_count": 5,
   "id": "d1fe7bc4",
   "metadata": {},
   "outputs": [
    {
     "name": "stdout",
     "output_type": "stream",
     "text": [
      "RMSE: 0.9800\n",
      "MAE:  0.7615\n"
     ]
    },
    {
     "data": {
      "text/plain": [
       "0.7614697475628528"
      ]
     },
     "execution_count": 5,
     "metadata": {},
     "output_type": "execute_result"
    }
   ],
   "source": [
    "# Step 4: Predict and Evaluate\n",
    "predictions = algo.test(testset)\n",
    "accuracy.rmse(predictions)\n",
    "accuracy.mae(predictions)"
   ]
  },
  {
   "cell_type": "code",
   "execution_count": null,
   "id": "9f04ed44",
   "metadata": {},
   "outputs": [
    {
     "name": "stdout",
     "output_type": "stream",
     "text": [
      "   userId  movieId  actual_rating  predicted_rating\n",
      "0     140     6765            3.5          3.425000\n",
      "1     603      290            4.0          3.550000\n",
      "2     438     5055            4.0          3.162500\n",
      "3     433   164179            5.0          3.608478\n",
      "4     474     5114            4.0          3.503229\n"
     ]
    }
   ],
   "source": [
    "pred_df = pd.DataFrame([(pred.uid, pred.iid, pred.r_ui, pred.est) for pred in predictions],\n",
    "                      columns=['userId', 'movieId', 'actual_rating', 'predicted_rating'])\n",
    "print(pred_df.head())"
   ]
  }
 ],
 "metadata": {
  "kernelspec": {
   "display_name": "venv",
   "language": "python",
   "name": "python3"
  },
  "language_info": {
   "codemirror_mode": {
    "name": "ipython",
    "version": 3
   },
   "file_extension": ".py",
   "mimetype": "text/x-python",
   "name": "python",
   "nbconvert_exporter": "python",
   "pygments_lexer": "ipython3",
   "version": "3.11.9"
  }
 },
 "nbformat": 4,
 "nbformat_minor": 5
}
