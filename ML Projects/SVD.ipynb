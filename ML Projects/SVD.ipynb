{
 "cells": [
  {
   "cell_type": "code",
   "execution_count": 1,
   "id": "1a3048ea",
   "metadata": {},
   "outputs": [],
   "source": [
    "import pandas as pd\n",
    "import numpy as np\n",
    "from sklearn.decomposition import TruncatedSVD\n",
    "from sklearn.metrics import mean_squared_error"
   ]
  },
  {
   "cell_type": "code",
   "execution_count": null,
   "id": "f010c5b0",
   "metadata": {},
   "outputs": [],
   "source": [
    "# -------------------------------\n",
    "# Step 1: Load dataset\n",
    "# -------------------------------\n",
    "# Download: https://files.grouplens.org/datasets/movielens/ml-latest-small.zip\n",
    "# After extraction, use 'ratings.csv'\n",
    "\n",
    "ratings = pd.read_csv(r\"C:\\Users\\Stevi\\OneDrive\\Documents\\Projects\\Projects\\ML Projects\\Data\\ratings.csv\")\n",
    "display(\"Ratings Data:\\n\", ratings.head())"
   ]
  },
  {
   "cell_type": "code",
   "execution_count": null,
   "id": "0ab95201",
   "metadata": {},
   "outputs": [],
   "source": [
    "# Step 2: Build user-item matrix\n",
    "user_item_matrix = ratings.pivot_table(\n",
    "    index=\"userId\",\n",
    "    columns=\"movieId\",\n",
    "    values=\"rating\"\n",
    ").fillna(0)\n",
    "\n",
    "print(\"\\nUser-Item Matrix Shape:\", user_item_matrix.shape)"
   ]
  },
  {
   "cell_type": "code",
   "execution_count": null,
   "id": "ab7eeeae",
   "metadata": {},
   "outputs": [],
   "source": [
    "# Convert to numpy array\n",
    "R = user_item_matrix.values"
   ]
  },
  {
   "cell_type": "code",
   "execution_count": null,
   "id": "fbb1894c",
   "metadata": {},
   "outputs": [],
   "source": [
    "# Step 3: Apply Truncated SVD\n",
    "k = 50  # number of latent factors\n",
    "svd = TruncatedSVD(n_components=k, random_state=42)\n",
    "R_reduced = svd.fit_transform(R)   # U * Sigma\n",
    "VT = svd.components_               # V^T\n",
    "\n",
    "print(\"\\nReduced Representation Shape (U*Sigma):\", R_reduced.shape)\n",
    "print(\"Components Shape (VT):\", VT.shape)"
   ]
  },
  {
   "cell_type": "code",
   "execution_count": null,
   "id": "00e1d246",
   "metadata": {},
   "outputs": [],
   "source": [
    "# Step 4: Reconstruct approximate matrix\n",
    "R_pred = np.dot(R_reduced, VT)\n",
    "print(\"\\nOriginal Ratings (first 5 users, 5 movies):\\n\", R[:5, :5])\n",
    "print(\"\\nPredicted Ratings (first 5 users, 5 movies):\\n\", np.round(R_pred[:5, :5], 2))"
   ]
  },
  {
   "cell_type": "code",
   "execution_count": null,
   "id": "dcdfbbb3",
   "metadata": {},
   "outputs": [],
   "source": [
    "# Step 5: Evaluate model\n",
    "nonzero_idx = R.nonzero()\n",
    "rmse = np.sqrt(mean_squared_error(R[nonzero_idx], R_pred[nonzero_idx]))\n",
    "print(f\"\\nRMSE on known ratings: {rmse:.4f}\")"
   ]
  },
  {
   "cell_type": "code",
   "execution_count": null,
   "id": "bd7799ae",
   "metadata": {},
   "outputs": [],
   "source": [
    "# Step 6: Predict ratings for a user\n",
    "user_id = 0  # first user\n",
    "actual_ratings = R[user_id, :]\n",
    "predicted_ratings = R_pred[user_id, :]\n",
    "print(\"\\nUser 1 - Actual Ratings (first 20 movies):\\n\", actual_ratings[:20])\n",
    "print(\"\\nUser 1 - Predicted Ratings (first 20 movies):\\n\", np.round(predicted_ratings[:20], 2))"
   ]
  }
 ],
 "metadata": {
  "kernelspec": {
   "display_name": ".venv",
   "language": "python",
   "name": "python3"
  },
  "language_info": {
   "codemirror_mode": {
    "name": "ipython",
    "version": 3
   },
   "file_extension": ".py",
   "mimetype": "text/x-python",
   "name": "python",
   "nbconvert_exporter": "python",
   "pygments_lexer": "ipython3",
   "version": "3.12.3"
  }
 },
 "nbformat": 4,
 "nbformat_minor": 5
}
