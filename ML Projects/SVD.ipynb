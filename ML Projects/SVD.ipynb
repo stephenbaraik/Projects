{
 "cells": [
  {
   "cell_type": "code",
   "execution_count": null,
   "id": "1a3048ea",
   "metadata": {},
   "outputs": [
    {
     "ename": "ModuleNotFoundError",
     "evalue": "No module named 'sklearn'",
     "output_type": "error",
     "traceback": [
      "\u001b[31m---------------------------------------------------------------------------\u001b[39m",
      "\u001b[31mModuleNotFoundError\u001b[39m                       Traceback (most recent call last)",
      "\u001b[36mCell\u001b[39m\u001b[36m \u001b[39m\u001b[32mIn[1]\u001b[39m\u001b[32m, line 3\u001b[39m\n\u001b[32m      1\u001b[39m \u001b[38;5;28;01mimport\u001b[39;00m\u001b[38;5;250m \u001b[39m\u001b[34;01mpandas\u001b[39;00m\u001b[38;5;250m \u001b[39m\u001b[38;5;28;01mas\u001b[39;00m\u001b[38;5;250m \u001b[39m\u001b[34;01mpd\u001b[39;00m\n\u001b[32m      2\u001b[39m \u001b[38;5;28;01mimport\u001b[39;00m\u001b[38;5;250m \u001b[39m\u001b[34;01mnumpy\u001b[39;00m\u001b[38;5;250m \u001b[39m\u001b[38;5;28;01mas\u001b[39;00m\u001b[38;5;250m \u001b[39m\u001b[34;01mnp\u001b[39;00m\n\u001b[32m----> \u001b[39m\u001b[32m3\u001b[39m \u001b[38;5;28;01mfrom\u001b[39;00m\u001b[38;5;250m \u001b[39m\u001b[34;01msklearn\u001b[39;00m\u001b[34;01m.\u001b[39;00m\u001b[34;01mdecomposition\u001b[39;00m\u001b[38;5;250m \u001b[39m\u001b[38;5;28;01mimport\u001b[39;00m TruncatedSVD\n\u001b[32m      4\u001b[39m \u001b[38;5;28;01mfrom\u001b[39;00m\u001b[38;5;250m \u001b[39m\u001b[34;01msklearn\u001b[39;00m\u001b[34;01m.\u001b[39;00m\u001b[34;01mmetrics\u001b[39;00m\u001b[38;5;250m \u001b[39m\u001b[38;5;28;01mimport\u001b[39;00m mean_squared_error\n",
      "\u001b[31mModuleNotFoundError\u001b[39m: No module named 'sklearn'"
     ]
    }
   ],
   "source": [
    "import pandas as pd\n",
    "import numpy as np\n",
    "from sklearn.decomposition import TruncatedSVD\n",
    "from sklearn.metrics import mean_squared_error"
   ]
  },
  {
   "cell_type": "code",
   "execution_count": null,
   "id": "f010c5b0",
   "metadata": {},
   "outputs": [
    {
     "data": {
      "text/plain": [
       "'Ratings Data:\\n'"
      ]
     },
     "metadata": {},
     "output_type": "display_data"
    },
    {
     "data": {
      "application/vnd.microsoft.datawrangler.viewer.v0+json": {
       "columns": [
        {
         "name": "index",
         "rawType": "int64",
         "type": "integer"
        },
        {
         "name": "userId",
         "rawType": "int64",
         "type": "integer"
        },
        {
         "name": "movieId",
         "rawType": "int64",
         "type": "integer"
        },
        {
         "name": "rating",
         "rawType": "float64",
         "type": "float"
        },
        {
         "name": "timestamp",
         "rawType": "int64",
         "type": "integer"
        }
       ],
       "ref": "a72dce1e-93e8-4063-a2db-aa9ed0738c61",
       "rows": [
        [
         "0",
         "1",
         "1",
         "4.0",
         "964982703"
        ],
        [
         "1",
         "1",
         "3",
         "4.0",
         "964981247"
        ],
        [
         "2",
         "1",
         "6",
         "4.0",
         "964982224"
        ],
        [
         "3",
         "1",
         "47",
         "5.0",
         "964983815"
        ],
        [
         "4",
         "1",
         "50",
         "5.0",
         "964982931"
        ]
       ],
       "shape": {
        "columns": 4,
        "rows": 5
       }
      },
      "text/html": [
       "<div>\n",
       "<style scoped>\n",
       "    .dataframe tbody tr th:only-of-type {\n",
       "        vertical-align: middle;\n",
       "    }\n",
       "\n",
       "    .dataframe tbody tr th {\n",
       "        vertical-align: top;\n",
       "    }\n",
       "\n",
       "    .dataframe thead th {\n",
       "        text-align: right;\n",
       "    }\n",
       "</style>\n",
       "<table border=\"1\" class=\"dataframe\">\n",
       "  <thead>\n",
       "    <tr style=\"text-align: right;\">\n",
       "      <th></th>\n",
       "      <th>userId</th>\n",
       "      <th>movieId</th>\n",
       "      <th>rating</th>\n",
       "      <th>timestamp</th>\n",
       "    </tr>\n",
       "  </thead>\n",
       "  <tbody>\n",
       "    <tr>\n",
       "      <th>0</th>\n",
       "      <td>1</td>\n",
       "      <td>1</td>\n",
       "      <td>4.0</td>\n",
       "      <td>964982703</td>\n",
       "    </tr>\n",
       "    <tr>\n",
       "      <th>1</th>\n",
       "      <td>1</td>\n",
       "      <td>3</td>\n",
       "      <td>4.0</td>\n",
       "      <td>964981247</td>\n",
       "    </tr>\n",
       "    <tr>\n",
       "      <th>2</th>\n",
       "      <td>1</td>\n",
       "      <td>6</td>\n",
       "      <td>4.0</td>\n",
       "      <td>964982224</td>\n",
       "    </tr>\n",
       "    <tr>\n",
       "      <th>3</th>\n",
       "      <td>1</td>\n",
       "      <td>47</td>\n",
       "      <td>5.0</td>\n",
       "      <td>964983815</td>\n",
       "    </tr>\n",
       "    <tr>\n",
       "      <th>4</th>\n",
       "      <td>1</td>\n",
       "      <td>50</td>\n",
       "      <td>5.0</td>\n",
       "      <td>964982931</td>\n",
       "    </tr>\n",
       "  </tbody>\n",
       "</table>\n",
       "</div>"
      ],
      "text/plain": [
       "   userId  movieId  rating  timestamp\n",
       "0       1        1     4.0  964982703\n",
       "1       1        3     4.0  964981247\n",
       "2       1        6     4.0  964982224\n",
       "3       1       47     5.0  964983815\n",
       "4       1       50     5.0  964982931"
      ]
     },
     "metadata": {},
     "output_type": "display_data"
    }
   ],
   "source": [
    "# -------------------------------\n",
    "# Step 1: Load dataset\n",
    "# -------------------------------\n",
    "# Download: https://files.grouplens.org/datasets/movielens/ml-latest-small.zip\n",
    "# After extraction, use 'ratings.csv'\n",
    "\n",
    "ratings = pd.read_csv(r\"C:\\Users\\Stevi\\OneDrive\\Documents\\Projects\\Projects\\ML Projects\\Data\\ratings.csv\")\n",
    "display(\"Ratings Data:\\n\", ratings.head())"
   ]
  },
  {
   "cell_type": "code",
   "execution_count": null,
   "id": "0ab95201",
   "metadata": {},
   "outputs": [
    {
     "name": "stdout",
     "output_type": "stream",
     "text": [
      "\n",
      "User-Item Matrix Shape: (610, 9724)\n"
     ]
    }
   ],
   "source": [
    "# Step 2: Build user-item matrix\n",
    "user_item_matrix = ratings.pivot_table(\n",
    "    index=\"userId\",\n",
    "    columns=\"movieId\",\n",
    "    values=\"rating\"\n",
    ").fillna(0)\n",
    "\n",
    "print(\"\\nUser-Item Matrix Shape:\", user_item_matrix.shape)"
   ]
  },
  {
   "cell_type": "code",
   "execution_count": null,
   "id": "ab7eeeae",
   "metadata": {},
   "outputs": [],
   "source": [
    "# Convert to numpy array\n",
    "R = user_item_matrix.values"
   ]
  },
  {
   "cell_type": "code",
   "execution_count": null,
   "id": "fbb1894c",
   "metadata": {},
   "outputs": [
    {
     "name": "stdout",
     "output_type": "stream",
     "text": [
      "\n",
      "Reduced Representation Shape (U*Sigma): (610, 50)\n",
      "Components Shape (VT): (50, 9724)\n"
     ]
    }
   ],
   "source": [
    "# Step 3: Apply Truncated SVD\n",
    "k = 50  # number of latent factors\n",
    "svd = TruncatedSVD(n_components=k, random_state=42)\n",
    "R_reduced = svd.fit_transform(R)   # U * Sigma\n",
    "VT = svd.components_               # V^T\n",
    "\n",
    "print(\"\\nReduced Representation Shape (U*Sigma):\", R_reduced.shape)\n",
    "print(\"Components Shape (VT):\", VT.shape)"
   ]
  },
  {
   "cell_type": "code",
   "execution_count": null,
   "id": "00e1d246",
   "metadata": {},
   "outputs": [
    {
     "name": "stdout",
     "output_type": "stream",
     "text": [
      "\n",
      "Original Ratings (first 5 users, 5 movies):\n",
      " [[4. 0. 4. 0. 0.]\n",
      " [0. 0. 0. 0. 0.]\n",
      " [0. 0. 0. 0. 0.]\n",
      " [0. 0. 0. 0. 0.]\n",
      " [4. 0. 0. 0. 0.]]\n",
      "\n",
      "Predicted Ratings (first 5 users, 5 movies):\n",
      " [[ 2.49  1.08  0.69 -0.09 -0.51]\n",
      " [ 0.28 -0.08  0.04  0.01  0.18]\n",
      " [ 0.03  0.02  0.04 -0.   -0.02]\n",
      " [ 1.8  -0.06 -0.28  0.08  0.01]\n",
      " [ 1.4   0.79  0.04  0.11  0.27]]\n"
     ]
    }
   ],
   "source": [
    "# Step 4: Reconstruct approximate matrix\n",
    "R_pred = np.dot(R_reduced, VT)\n",
    "print(\"\\nOriginal Ratings (first 5 users, 5 movies):\\n\", R[:5, :5])\n",
    "print(\"\\nPredicted Ratings (first 5 users, 5 movies):\\n\", np.round(R_pred[:5, :5], 2))"
   ]
  },
  {
   "cell_type": "code",
   "execution_count": null,
   "id": "dcdfbbb3",
   "metadata": {},
   "outputs": [
    {
     "name": "stdout",
     "output_type": "stream",
     "text": [
      "\n",
      "RMSE on known ratings: 1.9981\n"
     ]
    }
   ],
   "source": [
    "# Step 5: Evaluate model\n",
    "nonzero_idx = R.nonzero()\n",
    "rmse = np.sqrt(mean_squared_error(R[nonzero_idx], R_pred[nonzero_idx]))\n",
    "print(f\"\\nRMSE on known ratings: {rmse:.4f}\")"
   ]
  },
  {
   "cell_type": "code",
   "execution_count": null,
   "id": "bd7799ae",
   "metadata": {},
   "outputs": [
    {
     "name": "stdout",
     "output_type": "stream",
     "text": [
      "\n",
      "User 1 - Actual Ratings (first 20 movies):\n",
      " [4. 0. 4. 0. 0. 4. 0. 0. 0. 0. 0. 0. 0. 0. 0. 0. 0. 0. 0. 0.]\n",
      "\n",
      "User 1 - Predicted Ratings (first 20 movies):\n",
      " [ 2.49  1.08  0.69 -0.09 -0.51  2.44 -0.89 -0.07  0.19  1.64 -0.71  0.19\n",
      "  0.26  0.01 -0.11  1.18 -0.5   0.02  0.34  0.33]\n"
     ]
    }
   ],
   "source": [
    "# Step 6: Predict ratings for a user\n",
    "user_id = 0  # first user\n",
    "actual_ratings = R[user_id, :]\n",
    "predicted_ratings = R_pred[user_id, :]\n",
    "print(\"\\nUser 1 - Actual Ratings (first 20 movies):\\n\", actual_ratings[:20])\n",
    "print(\"\\nUser 1 - Predicted Ratings (first 20 movies):\\n\", np.round(predicted_ratings[:20], 2))"
   ]
  }
 ],
 "metadata": {
  "kernelspec": {
   "display_name": "Python 3",
   "language": "python",
   "name": "python3"
  },
  "language_info": {
   "codemirror_mode": {
    "name": "ipython",
    "version": 3
   },
   "file_extension": ".py",
   "mimetype": "text/x-python",
   "name": "python",
   "nbconvert_exporter": "python",
   "pygments_lexer": "ipython3",
   "version": "3.11.9"
  }
 },
 "nbformat": 4,
 "nbformat_minor": 5
}
