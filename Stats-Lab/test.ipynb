{
 "cells": [
  {
   "cell_type": "code",
   "execution_count": 227,
   "id": "0fc721dd",
   "metadata": {},
   "outputs": [],
   "source": [
    "import pandas as pd\n",
    "import numpy as np\n",
    "from sklearn.model_selection import train_test_split\n",
    "from sklearn.linear_model import LogisticRegression\n",
    "from sklearn.metrics import classification_report,accuracy_score,confusion_matrix,roc_auc_score,roc_curve\n",
    "from sklearn.preprocessing import StandardScaler\n",
    "from ucimlrepo import fetch_ucirepo \n",
    "from sklearn.decomposition import PCA,FactorAnalysis\n",
    "import matplotlib.pyplot as plt\n",
    "import seaborn as sns\n",
    "from sklearn.discriminant_analysis import LinearDiscriminantAnalysis as LDA\n"
   ]
  },
  {
   "cell_type": "code",
   "execution_count": 228,
   "id": "a8e950ef",
   "metadata": {},
   "outputs": [],
   "source": [
    "#import Dataset\n",
    "wine = pd.read_csv(r'C:\\Users\\Stevi\\OneDrive\\Documents\\Projects\\Stats-Lab\\Data\\winequality-red.csv',delimiter=';')"
   ]
  },
  {
   "cell_type": "code",
   "execution_count": 229,
   "id": "32d2f8ba",
   "metadata": {},
   "outputs": [
    {
     "name": "stdout",
     "output_type": "stream",
     "text": [
      "<class 'pandas.core.frame.DataFrame'>\n",
      "RangeIndex: 1599 entries, 0 to 1598\n",
      "Data columns (total 12 columns):\n",
      " #   Column                Non-Null Count  Dtype  \n",
      "---  ------                --------------  -----  \n",
      " 0   fixed acidity         1599 non-null   float64\n",
      " 1   volatile acidity      1599 non-null   float64\n",
      " 2   citric acid           1599 non-null   float64\n",
      " 3   residual sugar        1599 non-null   float64\n",
      " 4   chlorides             1599 non-null   float64\n",
      " 5   free sulfur dioxide   1599 non-null   float64\n",
      " 6   total sulfur dioxide  1599 non-null   float64\n",
      " 7   density               1599 non-null   float64\n",
      " 8   pH                    1599 non-null   float64\n",
      " 9   sulphates             1599 non-null   float64\n",
      " 10  alcohol               1599 non-null   float64\n",
      " 11  quality               1599 non-null   int64  \n",
      "dtypes: float64(11), int64(1)\n",
      "memory usage: 150.0 KB\n"
     ]
    }
   ],
   "source": [
    "#Stats\n",
    "wine.info()"
   ]
  },
  {
   "cell_type": "code",
   "execution_count": 230,
   "id": "e992112b",
   "metadata": {},
   "outputs": [
    {
     "data": {
      "application/vnd.microsoft.datawrangler.viewer.v0+json": {
       "columns": [
        {
         "name": "index",
         "rawType": "int64",
         "type": "integer"
        },
        {
         "name": "fixed acidity",
         "rawType": "float64",
         "type": "float"
        },
        {
         "name": "volatile acidity",
         "rawType": "float64",
         "type": "float"
        },
        {
         "name": "citric acid",
         "rawType": "float64",
         "type": "float"
        },
        {
         "name": "residual sugar",
         "rawType": "float64",
         "type": "float"
        },
        {
         "name": "chlorides",
         "rawType": "float64",
         "type": "float"
        },
        {
         "name": "free sulfur dioxide",
         "rawType": "float64",
         "type": "float"
        },
        {
         "name": "total sulfur dioxide",
         "rawType": "float64",
         "type": "float"
        },
        {
         "name": "density",
         "rawType": "float64",
         "type": "float"
        },
        {
         "name": "pH",
         "rawType": "float64",
         "type": "float"
        },
        {
         "name": "sulphates",
         "rawType": "float64",
         "type": "float"
        },
        {
         "name": "alcohol",
         "rawType": "float64",
         "type": "float"
        },
        {
         "name": "quality",
         "rawType": "int64",
         "type": "integer"
        }
       ],
       "ref": "8e5d2cf8-c988-414f-a9b9-83ba6aa9a94a",
       "rows": [
        [
         "0",
         "7.4",
         "0.7",
         "0.0",
         "1.9",
         "0.076",
         "11.0",
         "34.0",
         "0.9978",
         "3.51",
         "0.56",
         "9.4",
         "5"
        ],
        [
         "1",
         "7.8",
         "0.88",
         "0.0",
         "2.6",
         "0.098",
         "25.0",
         "67.0",
         "0.9968",
         "3.2",
         "0.68",
         "9.8",
         "5"
        ],
        [
         "2",
         "7.8",
         "0.76",
         "0.04",
         "2.3",
         "0.092",
         "15.0",
         "54.0",
         "0.997",
         "3.26",
         "0.65",
         "9.8",
         "5"
        ],
        [
         "3",
         "11.2",
         "0.28",
         "0.56",
         "1.9",
         "0.075",
         "17.0",
         "60.0",
         "0.998",
         "3.16",
         "0.58",
         "9.8",
         "6"
        ],
        [
         "4",
         "7.4",
         "0.7",
         "0.0",
         "1.9",
         "0.076",
         "11.0",
         "34.0",
         "0.9978",
         "3.51",
         "0.56",
         "9.4",
         "5"
        ]
       ],
       "shape": {
        "columns": 12,
        "rows": 5
       }
      },
      "text/html": [
       "<div>\n",
       "<style scoped>\n",
       "    .dataframe tbody tr th:only-of-type {\n",
       "        vertical-align: middle;\n",
       "    }\n",
       "\n",
       "    .dataframe tbody tr th {\n",
       "        vertical-align: top;\n",
       "    }\n",
       "\n",
       "    .dataframe thead th {\n",
       "        text-align: right;\n",
       "    }\n",
       "</style>\n",
       "<table border=\"1\" class=\"dataframe\">\n",
       "  <thead>\n",
       "    <tr style=\"text-align: right;\">\n",
       "      <th></th>\n",
       "      <th>fixed acidity</th>\n",
       "      <th>volatile acidity</th>\n",
       "      <th>citric acid</th>\n",
       "      <th>residual sugar</th>\n",
       "      <th>chlorides</th>\n",
       "      <th>free sulfur dioxide</th>\n",
       "      <th>total sulfur dioxide</th>\n",
       "      <th>density</th>\n",
       "      <th>pH</th>\n",
       "      <th>sulphates</th>\n",
       "      <th>alcohol</th>\n",
       "      <th>quality</th>\n",
       "    </tr>\n",
       "  </thead>\n",
       "  <tbody>\n",
       "    <tr>\n",
       "      <th>0</th>\n",
       "      <td>7.4</td>\n",
       "      <td>0.70</td>\n",
       "      <td>0.00</td>\n",
       "      <td>1.9</td>\n",
       "      <td>0.076</td>\n",
       "      <td>11.0</td>\n",
       "      <td>34.0</td>\n",
       "      <td>0.9978</td>\n",
       "      <td>3.51</td>\n",
       "      <td>0.56</td>\n",
       "      <td>9.4</td>\n",
       "      <td>5</td>\n",
       "    </tr>\n",
       "    <tr>\n",
       "      <th>1</th>\n",
       "      <td>7.8</td>\n",
       "      <td>0.88</td>\n",
       "      <td>0.00</td>\n",
       "      <td>2.6</td>\n",
       "      <td>0.098</td>\n",
       "      <td>25.0</td>\n",
       "      <td>67.0</td>\n",
       "      <td>0.9968</td>\n",
       "      <td>3.20</td>\n",
       "      <td>0.68</td>\n",
       "      <td>9.8</td>\n",
       "      <td>5</td>\n",
       "    </tr>\n",
       "    <tr>\n",
       "      <th>2</th>\n",
       "      <td>7.8</td>\n",
       "      <td>0.76</td>\n",
       "      <td>0.04</td>\n",
       "      <td>2.3</td>\n",
       "      <td>0.092</td>\n",
       "      <td>15.0</td>\n",
       "      <td>54.0</td>\n",
       "      <td>0.9970</td>\n",
       "      <td>3.26</td>\n",
       "      <td>0.65</td>\n",
       "      <td>9.8</td>\n",
       "      <td>5</td>\n",
       "    </tr>\n",
       "    <tr>\n",
       "      <th>3</th>\n",
       "      <td>11.2</td>\n",
       "      <td>0.28</td>\n",
       "      <td>0.56</td>\n",
       "      <td>1.9</td>\n",
       "      <td>0.075</td>\n",
       "      <td>17.0</td>\n",
       "      <td>60.0</td>\n",
       "      <td>0.9980</td>\n",
       "      <td>3.16</td>\n",
       "      <td>0.58</td>\n",
       "      <td>9.8</td>\n",
       "      <td>6</td>\n",
       "    </tr>\n",
       "    <tr>\n",
       "      <th>4</th>\n",
       "      <td>7.4</td>\n",
       "      <td>0.70</td>\n",
       "      <td>0.00</td>\n",
       "      <td>1.9</td>\n",
       "      <td>0.076</td>\n",
       "      <td>11.0</td>\n",
       "      <td>34.0</td>\n",
       "      <td>0.9978</td>\n",
       "      <td>3.51</td>\n",
       "      <td>0.56</td>\n",
       "      <td>9.4</td>\n",
       "      <td>5</td>\n",
       "    </tr>\n",
       "  </tbody>\n",
       "</table>\n",
       "</div>"
      ],
      "text/plain": [
       "   fixed acidity  volatile acidity  citric acid  residual sugar  chlorides  \\\n",
       "0            7.4              0.70         0.00             1.9      0.076   \n",
       "1            7.8              0.88         0.00             2.6      0.098   \n",
       "2            7.8              0.76         0.04             2.3      0.092   \n",
       "3           11.2              0.28         0.56             1.9      0.075   \n",
       "4            7.4              0.70         0.00             1.9      0.076   \n",
       "\n",
       "   free sulfur dioxide  total sulfur dioxide  density    pH  sulphates  \\\n",
       "0                 11.0                  34.0   0.9978  3.51       0.56   \n",
       "1                 25.0                  67.0   0.9968  3.20       0.68   \n",
       "2                 15.0                  54.0   0.9970  3.26       0.65   \n",
       "3                 17.0                  60.0   0.9980  3.16       0.58   \n",
       "4                 11.0                  34.0   0.9978  3.51       0.56   \n",
       "\n",
       "   alcohol  quality  \n",
       "0      9.4        5  \n",
       "1      9.8        5  \n",
       "2      9.8        5  \n",
       "3      9.8        6  \n",
       "4      9.4        5  "
      ]
     },
     "execution_count": 230,
     "metadata": {},
     "output_type": "execute_result"
    }
   ],
   "source": [
    "wine.head()"
   ]
  },
  {
   "cell_type": "code",
   "execution_count": 231,
   "id": "1ae013fc",
   "metadata": {},
   "outputs": [
    {
     "data": {
      "application/vnd.microsoft.datawrangler.viewer.v0+json": {
       "columns": [
        {
         "name": "index",
         "rawType": "object",
         "type": "string"
        },
        {
         "name": "0",
         "rawType": "int64",
         "type": "integer"
        }
       ],
       "ref": "eeb09a42-2cad-476b-b929-3ce1bad4a75b",
       "rows": [
        [
         "fixed acidity",
         "0"
        ],
        [
         "volatile acidity",
         "0"
        ],
        [
         "citric acid",
         "0"
        ],
        [
         "residual sugar",
         "0"
        ],
        [
         "chlorides",
         "0"
        ],
        [
         "free sulfur dioxide",
         "0"
        ],
        [
         "total sulfur dioxide",
         "0"
        ],
        [
         "density",
         "0"
        ],
        [
         "pH",
         "0"
        ],
        [
         "sulphates",
         "0"
        ],
        [
         "alcohol",
         "0"
        ],
        [
         "quality",
         "0"
        ]
       ],
       "shape": {
        "columns": 1,
        "rows": 12
       }
      },
      "text/plain": [
       "fixed acidity           0\n",
       "volatile acidity        0\n",
       "citric acid             0\n",
       "residual sugar          0\n",
       "chlorides               0\n",
       "free sulfur dioxide     0\n",
       "total sulfur dioxide    0\n",
       "density                 0\n",
       "pH                      0\n",
       "sulphates               0\n",
       "alcohol                 0\n",
       "quality                 0\n",
       "dtype: int64"
      ]
     },
     "execution_count": 231,
     "metadata": {},
     "output_type": "execute_result"
    }
   ],
   "source": [
    "# Check for missing values\n",
    "wine.isna().sum()"
   ]
  },
  {
   "cell_type": "code",
   "execution_count": 232,
   "id": "ae5a1287",
   "metadata": {},
   "outputs": [
    {
     "data": {
      "image/png": "[encoded data removed]",
      "text/plain": [
       "<Figure size 1000x800 with 2 Axes>"
      ]
     },
     "metadata": {},
     "output_type": "display_data"
    }
   ],
   "source": [
    "# Correlation heatmap\n",
    "plt.figure(figsize=(10,8))\n",
    "sns.heatmap(wine.corr(), annot=True, cmap='coolwarm', fmt='.2f')\n",
    "plt.title('Feature Correlation')\n",
    "plt.show()"
   ]
  },
  {
   "cell_type": "code",
   "execution_count": 233,
   "id": "8aa24889",
   "metadata": {},
   "outputs": [],
   "source": [
    "# Spliting data into features and target variable\n",
    "X = wine.drop('quality', axis=1)\n",
    "y = wine['quality']"
   ]
  },
  {
   "cell_type": "code",
   "execution_count": 234,
   "id": "a648157d",
   "metadata": {},
   "outputs": [],
   "source": [
    "# Scaling Data\n",
    "scaler = StandardScaler()\n",
    "X_scaled = scaler.fit_transform(X)"
   ]
  },
  {
   "cell_type": "code",
   "execution_count": 235,
   "id": "bc0f3702",
   "metadata": {},
   "outputs": [],
   "source": [
    "# train test split\n",
    "X_train, X_test, y_train, y_test = train_test_split(X_scaled, y, test_size=0.2, random_state=42)"
   ]
  },
  {
   "cell_type": "code",
   "execution_count": 236,
   "id": "2f6d941c",
   "metadata": {},
   "outputs": [
    {
     "name": "stdout",
     "output_type": "stream",
     "text": [
      "Explained variance ratio: [9.46576976e-01 4.83683046e-02 2.58917183e-03 1.51896798e-03\n",
      " 8.73553990e-04 3.45607218e-05 1.93627614e-05 9.47278079e-06\n",
      " 8.41376628e-06 1.21472798e-06 4.68762788e-10]\n",
      "Total variance explained: 1.0\n"
     ]
    }
   ],
   "source": [
    "# PCA\n",
    "pca = PCA().fit(X)\n",
    "print(\"Explained variance ratio:\", pca.explained_variance_ratio_)\n",
    "print(\"Total variance explained:\", sum(pca.explained_variance_ratio_))\n"
   ]
  },
  {
   "cell_type": "code",
   "execution_count": 237,
   "id": "6f8c60e1",
   "metadata": {},
   "outputs": [
    {
     "data": {
      "image/png": "[encoded data removed]",
      "text/plain": [
       "<Figure size 800x500 with 1 Axes>"
      ]
     },
     "metadata": {},
     "output_type": "display_data"
    }
   ],
   "source": [
    "plt.figure(figsize=(8,5))\n",
    "plt.plot(range(1, len(pca.explained_variance_ratio_)+1),np.cumsum(pca.explained_variance_ratio_), marker='o')\n",
    "plt.xlabel('Number of Components')\n",
    "plt.ylabel('Cumulative Explained Variance')\n",
    "plt.title('Scree Plot')\n",
    "plt.grid()\n",
    "plt.show()\n"
   ]
  },
  {
   "cell_type": "code",
   "execution_count": 238,
   "id": "8bb06a38",
   "metadata": {},
   "outputs": [
    {
     "data": {
      "application/vnd.microsoft.datawrangler.viewer.v0+json": {
       "columns": [
        {
         "name": "index",
         "rawType": "object",
         "type": "string"
        },
        {
         "name": "PC1",
         "rawType": "float64",
         "type": "float"
        },
        {
         "name": "PC2",
         "rawType": "float64",
         "type": "float"
        },
        {
         "name": "PC3",
         "rawType": "float64",
         "type": "float"
        },
        {
         "name": "PC4",
         "rawType": "float64",
         "type": "float"
        },
        {
         "name": "PC5",
         "rawType": "float64",
         "type": "float"
        },
        {
         "name": "PC6",
         "rawType": "float64",
         "type": "float"
        },
        {
         "name": "PC7",
         "rawType": "float64",
         "type": "float"
        },
        {
         "name": "PC8",
         "rawType": "float64",
         "type": "float"
        },
        {
         "name": "PC9",
         "rawType": "float64",
         "type": "float"
        },
        {
         "name": "PC10",
         "rawType": "float64",
         "type": "float"
        },
        {
         "name": "PC11",
         "rawType": "float64",
         "type": "float"
        }
       ],
       "ref": "440085b2-a639-497b-96e4-3f2577701781",
       "rows": [
        [
         "fixed acidity",
         "-0.006132474313767043",
         "-0.023899498514522045",
         "0.9531359795821951",
         "-0.2650922138420192",
         "0.09814764677538437",
         "0.07931237290492991",
         "0.011141587334909511",
         "0.06490660701567141",
         "-0.016205611201922824",
         "0.011189467947888831",
         "-0.0009421371464783978"
        ],
        [
         "volatile acidity",
         "0.00038446555110793756",
         "-0.0020096666139212127",
         "-0.025131538686500143",
         "0.007273749874117136",
         "-0.04115705584463758",
         "0.6892417897924334",
         "0.4643662080796785",
         "-0.3388410539881514",
         "0.42863186571260037",
         "-0.09158676548536142",
         "-0.0007188322797393842"
        ],
        [
         "citric acid",
         "0.00017090259523490706",
         "-0.003034807879128027",
         "0.07370827462021518",
         "-0.009832151579964865",
         "0.04148150195555964",
         "-0.5040442570085618",
         "-0.20550787331525822",
         "-0.32712339907177923",
         "0.7604661068173622",
         "-0.10548907291582946",
         "-5.844676461373169e-05"
        ],
        [
         "residual sugar",
         "0.008648946483034804",
         "0.011134855091414795",
         "0.2809136199565061",
         "0.9431779895071237",
         "-0.17662686161545632",
         "-0.005765739572019941",
         "0.002494585515883486",
         "0.0041343213142194385",
         "-0.006931287755640371",
         "-0.0014860289582980424",
         "-0.0004127474760288194"
        ],
        [
         "chlorides",
         "6.373072904358994e-05",
         "-0.00023665475053288905",
         "0.0029457881545046907",
         "-0.0006452626725075148",
         "-0.009479850673770046",
         "-0.0570159846074502",
         "0.11394849335776712",
         "-0.1325182598020568",
         "0.07219710302861806",
         "0.9802494977577949",
         "-0.0018187831088062696"
        ],
        [
         "free sulfur dioxide",
         "0.21885743377444725",
         "0.9752659817023549",
         "0.0208968394638039",
         "-0.021189437075736756",
         "-0.007868434536477623",
         "0.0010598921426825392",
         "-9.261915326275183e-05",
         "-0.0025743514677510487",
         "0.0014986789550701929",
         "-0.0003175898257622156",
         "8.575457602068358e-06"
        ],
        [
         "total sulfur dioxide",
         "0.9756783687440024",
         "-0.2189168411416213",
         "-0.0015268588625556925",
         "-0.003979929674845728",
         "0.010323163039295109",
         "0.0006143401672237259",
         "-0.0002302573009383413",
         "0.0012118772707185865",
         "-0.0006571039669419076",
         "0.0002602399365991409",
         "-2.654145002898298e-06"
        ],
        [
         "density",
         "3.7249854210015055e-06",
         "-2.499985099311418e-05",
         "0.0007761395998655257",
         "5.52088340652996e-05",
         "-0.00083397228242764",
         "0.00046715719505433385",
         "0.001599885359402153",
         "0.004108281481314861",
         "0.0028388904501974264",
         "0.0020325271384224607",
         "0.9999834259123376"
        ],
        [
         "pH",
         "-0.00026800861878406926",
         "0.00327182194387627",
         "-0.05863054671011803",
         "0.02057797185423757",
         "0.012621596648783491",
         "0.1420016780563538",
         "-0.010260866142220548",
         "0.8591968027341873",
         "0.4787878103126093",
         "0.09064525267706602",
         "-0.005068314032275318"
        ],
        [
         "sulphates",
         "0.00022338173034005138",
         "0.0006189260459217511",
         "0.017525244189663985",
         "-0.007199263073896433",
         "0.02358523641935105",
         "-0.4884273558219066",
         "0.8537212383741968",
         "0.1329191863456384",
         "-0.0535682616533843",
         "-0.10556665546541485",
         "-0.001310653891511506"
        ],
        [
         "alcohol",
         "-0.006358467211098642",
         "0.0145642450561109",
         "-0.04859911640199279",
         "0.1976139818371626",
         "0.9771288358365872",
         "0.05082465862147588",
         "0.008249986687347634",
         "-0.021779408802261473",
         "-0.018024281509780422",
         "0.010111835645619452",
         "0.0009252613354502697"
        ]
       ],
       "shape": {
        "columns": 11,
        "rows": 11
       }
      },
      "text/html": [
       "<div>\n",
       "<style scoped>\n",
       "    .dataframe tbody tr th:only-of-type {\n",
       "        vertical-align: middle;\n",
       "    }\n",
       "\n",
       "    .dataframe tbody tr th {\n",
       "        vertical-align: top;\n",
       "    }\n",
       "\n",
       "    .dataframe thead th {\n",
       "        text-align: right;\n",
       "    }\n",
       "</style>\n",
       "<table border=\"1\" class=\"dataframe\">\n",
       "  <thead>\n",
       "    <tr style=\"text-align: right;\">\n",
       "      <th></th>\n",
       "      <th>PC1</th>\n",
       "      <th>PC2</th>\n",
       "      <th>PC3</th>\n",
       "      <th>PC4</th>\n",
       "      <th>PC5</th>\n",
       "      <th>PC6</th>\n",
       "      <th>PC7</th>\n",
       "      <th>PC8</th>\n",
       "      <th>PC9</th>\n",
       "      <th>PC10</th>\n",
       "      <th>PC11</th>\n",
       "    </tr>\n",
       "  </thead>\n",
       "  <tbody>\n",
       "    <tr>\n",
       "      <th>fixed acidity</th>\n",
       "      <td>-0.006132</td>\n",
       "      <td>-0.023899</td>\n",
       "      <td>0.953136</td>\n",
       "      <td>-0.265092</td>\n",
       "      <td>0.098148</td>\n",
       "      <td>0.079312</td>\n",
       "      <td>0.011142</td>\n",
       "      <td>0.064907</td>\n",
       "      <td>-0.016206</td>\n",
       "      <td>0.011189</td>\n",
       "      <td>-0.000942</td>\n",
       "    </tr>\n",
       "    <tr>\n",
       "      <th>volatile acidity</th>\n",
       "      <td>0.000384</td>\n",
       "      <td>-0.002010</td>\n",
       "      <td>-0.025132</td>\n",
       "      <td>0.007274</td>\n",
       "      <td>-0.041157</td>\n",
       "      <td>0.689242</td>\n",
       "      <td>0.464366</td>\n",
       "      <td>-0.338841</td>\n",
       "      <td>0.428632</td>\n",
       "      <td>-0.091587</td>\n",
       "      <td>-0.000719</td>\n",
       "    </tr>\n",
       "    <tr>\n",
       "      <th>citric acid</th>\n",
       "      <td>0.000171</td>\n",
       "      <td>-0.003035</td>\n",
       "      <td>0.073708</td>\n",
       "      <td>-0.009832</td>\n",
       "      <td>0.041482</td>\n",
       "      <td>-0.504044</td>\n",
       "      <td>-0.205508</td>\n",
       "      <td>-0.327123</td>\n",
       "      <td>0.760466</td>\n",
       "      <td>-0.105489</td>\n",
       "      <td>-0.000058</td>\n",
       "    </tr>\n",
       "    <tr>\n",
       "      <th>residual sugar</th>\n",
       "      <td>0.008649</td>\n",
       "      <td>0.011135</td>\n",
       "      <td>0.280914</td>\n",
       "      <td>0.943178</td>\n",
       "      <td>-0.176627</td>\n",
       "      <td>-0.005766</td>\n",
       "      <td>0.002495</td>\n",
       "      <td>0.004134</td>\n",
       "      <td>-0.006931</td>\n",
       "      <td>-0.001486</td>\n",
       "      <td>-0.000413</td>\n",
       "    </tr>\n",
       "    <tr>\n",
       "      <th>chlorides</th>\n",
       "      <td>0.000064</td>\n",
       "      <td>-0.000237</td>\n",
       "      <td>0.002946</td>\n",
       "      <td>-0.000645</td>\n",
       "      <td>-0.009480</td>\n",
       "      <td>-0.057016</td>\n",
       "      <td>0.113948</td>\n",
       "      <td>-0.132518</td>\n",
       "      <td>0.072197</td>\n",
       "      <td>0.980249</td>\n",
       "      <td>-0.001819</td>\n",
       "    </tr>\n",
       "    <tr>\n",
       "      <th>free sulfur dioxide</th>\n",
       "      <td>0.218857</td>\n",
       "      <td>0.975266</td>\n",
       "      <td>0.020897</td>\n",
       "      <td>-0.021189</td>\n",
       "      <td>-0.007868</td>\n",
       "      <td>0.001060</td>\n",
       "      <td>-0.000093</td>\n",
       "      <td>-0.002574</td>\n",
       "      <td>0.001499</td>\n",
       "      <td>-0.000318</td>\n",
       "      <td>0.000009</td>\n",
       "    </tr>\n",
       "    <tr>\n",
       "      <th>total sulfur dioxide</th>\n",
       "      <td>0.975678</td>\n",
       "      <td>-0.218917</td>\n",
       "      <td>-0.001527</td>\n",
       "      <td>-0.003980</td>\n",
       "      <td>0.010323</td>\n",
       "      <td>0.000614</td>\n",
       "      <td>-0.000230</td>\n",
       "      <td>0.001212</td>\n",
       "      <td>-0.000657</td>\n",
       "      <td>0.000260</td>\n",
       "      <td>-0.000003</td>\n",
       "    </tr>\n",
       "    <tr>\n",
       "      <th>density</th>\n",
       "      <td>0.000004</td>\n",
       "      <td>-0.000025</td>\n",
       "      <td>0.000776</td>\n",
       "      <td>0.000055</td>\n",
       "      <td>-0.000834</td>\n",
       "      <td>0.000467</td>\n",
       "      <td>0.001600</td>\n",
       "      <td>0.004108</td>\n",
       "      <td>0.002839</td>\n",
       "      <td>0.002033</td>\n",
       "      <td>0.999983</td>\n",
       "    </tr>\n",
       "    <tr>\n",
       "      <th>pH</th>\n",
       "      <td>-0.000268</td>\n",
       "      <td>0.003272</td>\n",
       "      <td>-0.058631</td>\n",
       "      <td>0.020578</td>\n",
       "      <td>0.012622</td>\n",
       "      <td>0.142002</td>\n",
       "      <td>-0.010261</td>\n",
       "      <td>0.859197</td>\n",
       "      <td>0.478788</td>\n",
       "      <td>0.090645</td>\n",
       "      <td>-0.005068</td>\n",
       "    </tr>\n",
       "    <tr>\n",
       "      <th>sulphates</th>\n",
       "      <td>0.000223</td>\n",
       "      <td>0.000619</td>\n",
       "      <td>0.017525</td>\n",
       "      <td>-0.007199</td>\n",
       "      <td>0.023585</td>\n",
       "      <td>-0.488427</td>\n",
       "      <td>0.853721</td>\n",
       "      <td>0.132919</td>\n",
       "      <td>-0.053568</td>\n",
       "      <td>-0.105567</td>\n",
       "      <td>-0.001311</td>\n",
       "    </tr>\n",
       "    <tr>\n",
       "      <th>alcohol</th>\n",
       "      <td>-0.006358</td>\n",
       "      <td>0.014564</td>\n",
       "      <td>-0.048599</td>\n",
       "      <td>0.197614</td>\n",
       "      <td>0.977129</td>\n",
       "      <td>0.050825</td>\n",
       "      <td>0.008250</td>\n",
       "      <td>-0.021779</td>\n",
       "      <td>-0.018024</td>\n",
       "      <td>0.010112</td>\n",
       "      <td>0.000925</td>\n",
       "    </tr>\n",
       "  </tbody>\n",
       "</table>\n",
       "</div>"
      ],
      "text/plain": [
       "                           PC1       PC2       PC3       PC4       PC5  \\\n",
       "fixed acidity        -0.006132 -0.023899  0.953136 -0.265092  0.098148   \n",
       "volatile acidity      0.000384 -0.002010 -0.025132  0.007274 -0.041157   \n",
       "citric acid           0.000171 -0.003035  0.073708 -0.009832  0.041482   \n",
       "residual sugar        0.008649  0.011135  0.280914  0.943178 -0.176627   \n",
       "chlorides             0.000064 -0.000237  0.002946 -0.000645 -0.009480   \n",
       "free sulfur dioxide   0.218857  0.975266  0.020897 -0.021189 -0.007868   \n",
       "total sulfur dioxide  0.975678 -0.218917 -0.001527 -0.003980  0.010323   \n",
       "density               0.000004 -0.000025  0.000776  0.000055 -0.000834   \n",
       "pH                   -0.000268  0.003272 -0.058631  0.020578  0.012622   \n",
       "sulphates             0.000223  0.000619  0.017525 -0.007199  0.023585   \n",
       "alcohol              -0.006358  0.014564 -0.048599  0.197614  0.977129   \n",
       "\n",
       "                           PC6       PC7       PC8       PC9      PC10  \\\n",
       "fixed acidity         0.079312  0.011142  0.064907 -0.016206  0.011189   \n",
       "volatile acidity      0.689242  0.464366 -0.338841  0.428632 -0.091587   \n",
       "citric acid          -0.504044 -0.205508 -0.327123  0.760466 -0.105489   \n",
       "residual sugar       -0.005766  0.002495  0.004134 -0.006931 -0.001486   \n",
       "chlorides            -0.057016  0.113948 -0.132518  0.072197  0.980249   \n",
       "free sulfur dioxide   0.001060 -0.000093 -0.002574  0.001499 -0.000318   \n",
       "total sulfur dioxide  0.000614 -0.000230  0.001212 -0.000657  0.000260   \n",
       "density               0.000467  0.001600  0.004108  0.002839  0.002033   \n",
       "pH                    0.142002 -0.010261  0.859197  0.478788  0.090645   \n",
       "sulphates            -0.488427  0.853721  0.132919 -0.053568 -0.105567   \n",
       "alcohol               0.050825  0.008250 -0.021779 -0.018024  0.010112   \n",
       "\n",
       "                          PC11  \n",
       "fixed acidity        -0.000942  \n",
       "volatile acidity     -0.000719  \n",
       "citric acid          -0.000058  \n",
       "residual sugar       -0.000413  \n",
       "chlorides            -0.001819  \n",
       "free sulfur dioxide   0.000009  \n",
       "total sulfur dioxide -0.000003  \n",
       "density               0.999983  \n",
       "pH                   -0.005068  \n",
       "sulphates            -0.001311  \n",
       "alcohol               0.000925  "
      ]
     },
     "metadata": {},
     "output_type": "display_data"
    }
   ],
   "source": [
    "# Create column names for all principal components\n",
    "pc_names = [f'PC{i+1}' for i in range(pca.n_components_)]\n",
    "loadings = pd.DataFrame(pca.components_.T,columns=pc_names,index=X.columns)\n",
    "display(loadings)\n"
   ]
  },
  {
   "cell_type": "code",
   "execution_count": 239,
   "id": "ed40287d",
   "metadata": {},
   "outputs": [],
   "source": [
    "# Factor Analysis\n",
    "# Compute eigenvalues\n",
    "cov_matrix = np.cov(X_scaled.T)\n",
    "eigenvalues, _ = np.linalg.eig(cov_matrix)\n"
   ]
  },
  {
   "cell_type": "code",
   "execution_count": 240,
   "id": "00ac505d",
   "metadata": {},
   "outputs": [
    {
     "name": "stdout",
     "output_type": "stream",
     "text": [
      "Shape after Factor Analysis: (1599, 11)\n"
     ]
    }
   ],
   "source": [
    "fa = FactorAnalysis()\n",
    "X_fa = fa.fit_transform(X)\n",
    "\n",
    "print(\"Shape after Factor Analysis:\", X_fa.shape)\n"
   ]
  },
  {
   "cell_type": "code",
   "execution_count": 241,
   "id": "62619fd6",
   "metadata": {},
   "outputs": [
    {
     "data": {
      "application/vnd.microsoft.datawrangler.viewer.v0+json": {
       "columns": [
        {
         "name": "index",
         "rawType": "int64",
         "type": "integer"
        },
        {
         "name": "0",
         "rawType": "float64",
         "type": "float"
        },
        {
         "name": "1",
         "rawType": "float64",
         "type": "float"
        },
        {
         "name": "2",
         "rawType": "float64",
         "type": "float"
        },
        {
         "name": "3",
         "rawType": "float64",
         "type": "float"
        },
        {
         "name": "4",
         "rawType": "float64",
         "type": "float"
        },
        {
         "name": "5",
         "rawType": "float64",
         "type": "float"
        },
        {
         "name": "6",
         "rawType": "float64",
         "type": "float"
        },
        {
         "name": "7",
         "rawType": "float64",
         "type": "float"
        },
        {
         "name": "8",
         "rawType": "float64",
         "type": "float"
        },
        {
         "name": "9",
         "rawType": "float64",
         "type": "float"
        },
        {
         "name": "10",
         "rawType": "float64",
         "type": "float"
        }
       ],
       "ref": "08b62cbd-d429-46e6-aa01-c5bfe87f3651",
       "rows": [
        [
         "0",
         "-0.20610170658725538",
         "-0.19233044112656933",
         "1.4763830651321008",
         "-0.061965425329973574",
         "-0.09462018755155117",
         "-0.19297501338793716",
         "-0.0",
         "0.0",
         "-0.0",
         "-0.0",
         "0.0"
        ],
        [
         "1",
         "0.012939664550531612",
         "-0.014929993837874715",
         "-0.05882413230439574",
         "0.07096056330466119",
         "-0.04231739170095123",
         "-0.0025301348896196196",
         "0.0",
         "0.0",
         "-0.0",
         "0.0",
         "0.0"
        ],
        [
         "2",
         "0.005768978308056631",
         "-0.024009589548171232",
         "0.13673305681055822",
         "-0.05143503633227868",
         "0.03226826768074279",
         "0.006305520198455479",
         "-0.0",
         "-0.0",
         "-0.0",
         "0.0",
         "-0.0"
        ],
        [
         "3",
         "0.2910696979895904",
         "0.08122401425285043",
         "0.3603101078372594",
         "0.6403797725823571",
         "0.6285313081049108",
         "0.06670144103056477",
         "0.0",
         "-0.0",
         "0.0",
         "0.0",
         "0.0"
        ],
        [
         "4",
         "0.0021492956689126703",
         "-0.0019245208341789274",
         "0.010628445544020298",
         "0.0019074143495697643",
         "-0.006283045725137647",
         "0.019235215500220466",
         "0.0",
         "0.0",
         "-0.0",
         "-0.0",
         "0.0"
        ],
        [
         "5",
         "7.363578383214924",
         "7.356390821105531",
         "0.08562984411918954",
         "-0.001861856192357992",
         "-0.02240853549885424",
         "-0.002970922514444448",
         "0.0",
         "0.0",
         "-0.0",
         "0.0",
         "-0.0"
        ],
        [
         "6",
         "32.828377226818205",
         "-1.6501152680903894",
         "-0.018924702984230796",
         "-0.009136150084154566",
         "0.0031331913329648827",
         "-0.002714490856427244",
         "-0.0",
         "0.0",
         "-0.0",
         "-0.0",
         "0.0"
        ],
        [
         "7",
         "0.00012561162677659322",
         "-0.00019946227433084287",
         "0.0012507169680035907",
         "0.0007141559192156604",
         "-0.00025455595894399865",
         "2.7647837611364422e-06",
         "-0.0",
         "0.0",
         "-0.0",
         "-0.0",
         "-0.0"
        ],
        [
         "8",
         "-0.009037764462646087",
         "0.025722395167532792",
         "-0.1049272300695715",
         "0.019530176513807982",
         "0.015701241125445617",
         "-0.003074124879270936",
         "-0.0",
         "0.0",
         "-0.0",
         "-0.0",
         "0.0"
        ],
        [
         "9",
         "0.007529046432315714",
         "0.004369615457696843",
         "0.048219845633834524",
         "-0.03569588891651427",
         "0.009437266665222224",
         "0.0576349432890969",
         "-0.0",
         "0.0",
         "0.0",
         "0.0",
         "0.0"
        ],
        [
         "10",
         "-0.21402006412198488",
         "0.11229823838896913",
         "-0.15149217742107385",
         "-0.3441026923969289",
         "0.47671077786720395",
         "-0.06810366938495963",
         "0.0",
         "0.0",
         "-0.0",
         "-0.0",
         "-0.0"
        ]
       ],
       "shape": {
        "columns": 11,
        "rows": 11
       }
      },
      "text/html": [
       "<div>\n",
       "<style scoped>\n",
       "    .dataframe tbody tr th:only-of-type {\n",
       "        vertical-align: middle;\n",
       "    }\n",
       "\n",
       "    .dataframe tbody tr th {\n",
       "        vertical-align: top;\n",
       "    }\n",
       "\n",
       "    .dataframe thead th {\n",
       "        text-align: right;\n",
       "    }\n",
       "</style>\n",
       "<table border=\"1\" class=\"dataframe\">\n",
       "  <thead>\n",
       "    <tr style=\"text-align: right;\">\n",
       "      <th></th>\n",
       "      <th>0</th>\n",
       "      <th>1</th>\n",
       "      <th>2</th>\n",
       "      <th>3</th>\n",
       "      <th>4</th>\n",
       "      <th>5</th>\n",
       "      <th>6</th>\n",
       "      <th>7</th>\n",
       "      <th>8</th>\n",
       "      <th>9</th>\n",
       "      <th>10</th>\n",
       "    </tr>\n",
       "  </thead>\n",
       "  <tbody>\n",
       "    <tr>\n",
       "      <th>0</th>\n",
       "      <td>-0.206102</td>\n",
       "      <td>-0.192330</td>\n",
       "      <td>1.476383</td>\n",
       "      <td>-0.061965</td>\n",
       "      <td>-0.094620</td>\n",
       "      <td>-0.192975</td>\n",
       "      <td>-0.0</td>\n",
       "      <td>0.0</td>\n",
       "      <td>-0.0</td>\n",
       "      <td>-0.0</td>\n",
       "      <td>0.0</td>\n",
       "    </tr>\n",
       "    <tr>\n",
       "      <th>1</th>\n",
       "      <td>0.012940</td>\n",
       "      <td>-0.014930</td>\n",
       "      <td>-0.058824</td>\n",
       "      <td>0.070961</td>\n",
       "      <td>-0.042317</td>\n",
       "      <td>-0.002530</td>\n",
       "      <td>0.0</td>\n",
       "      <td>0.0</td>\n",
       "      <td>-0.0</td>\n",
       "      <td>0.0</td>\n",
       "      <td>0.0</td>\n",
       "    </tr>\n",
       "    <tr>\n",
       "      <th>2</th>\n",
       "      <td>0.005769</td>\n",
       "      <td>-0.024010</td>\n",
       "      <td>0.136733</td>\n",
       "      <td>-0.051435</td>\n",
       "      <td>0.032268</td>\n",
       "      <td>0.006306</td>\n",
       "      <td>-0.0</td>\n",
       "      <td>-0.0</td>\n",
       "      <td>-0.0</td>\n",
       "      <td>0.0</td>\n",
       "      <td>-0.0</td>\n",
       "    </tr>\n",
       "    <tr>\n",
       "      <th>3</th>\n",
       "      <td>0.291070</td>\n",
       "      <td>0.081224</td>\n",
       "      <td>0.360310</td>\n",
       "      <td>0.640380</td>\n",
       "      <td>0.628531</td>\n",
       "      <td>0.066701</td>\n",
       "      <td>0.0</td>\n",
       "      <td>-0.0</td>\n",
       "      <td>0.0</td>\n",
       "      <td>0.0</td>\n",
       "      <td>0.0</td>\n",
       "    </tr>\n",
       "    <tr>\n",
       "      <th>4</th>\n",
       "      <td>0.002149</td>\n",
       "      <td>-0.001925</td>\n",
       "      <td>0.010628</td>\n",
       "      <td>0.001907</td>\n",
       "      <td>-0.006283</td>\n",
       "      <td>0.019235</td>\n",
       "      <td>0.0</td>\n",
       "      <td>0.0</td>\n",
       "      <td>-0.0</td>\n",
       "      <td>-0.0</td>\n",
       "      <td>0.0</td>\n",
       "    </tr>\n",
       "    <tr>\n",
       "      <th>5</th>\n",
       "      <td>7.363578</td>\n",
       "      <td>7.356391</td>\n",
       "      <td>0.085630</td>\n",
       "      <td>-0.001862</td>\n",
       "      <td>-0.022409</td>\n",
       "      <td>-0.002971</td>\n",
       "      <td>0.0</td>\n",
       "      <td>0.0</td>\n",
       "      <td>-0.0</td>\n",
       "      <td>0.0</td>\n",
       "      <td>-0.0</td>\n",
       "    </tr>\n",
       "    <tr>\n",
       "      <th>6</th>\n",
       "      <td>32.828377</td>\n",
       "      <td>-1.650115</td>\n",
       "      <td>-0.018925</td>\n",
       "      <td>-0.009136</td>\n",
       "      <td>0.003133</td>\n",
       "      <td>-0.002714</td>\n",
       "      <td>-0.0</td>\n",
       "      <td>0.0</td>\n",
       "      <td>-0.0</td>\n",
       "      <td>-0.0</td>\n",
       "      <td>0.0</td>\n",
       "    </tr>\n",
       "    <tr>\n",
       "      <th>7</th>\n",
       "      <td>0.000126</td>\n",
       "      <td>-0.000199</td>\n",
       "      <td>0.001251</td>\n",
       "      <td>0.000714</td>\n",
       "      <td>-0.000255</td>\n",
       "      <td>0.000003</td>\n",
       "      <td>-0.0</td>\n",
       "      <td>0.0</td>\n",
       "      <td>-0.0</td>\n",
       "      <td>-0.0</td>\n",
       "      <td>-0.0</td>\n",
       "    </tr>\n",
       "    <tr>\n",
       "      <th>8</th>\n",
       "      <td>-0.009038</td>\n",
       "      <td>0.025722</td>\n",
       "      <td>-0.104927</td>\n",
       "      <td>0.019530</td>\n",
       "      <td>0.015701</td>\n",
       "      <td>-0.003074</td>\n",
       "      <td>-0.0</td>\n",
       "      <td>0.0</td>\n",
       "      <td>-0.0</td>\n",
       "      <td>-0.0</td>\n",
       "      <td>0.0</td>\n",
       "    </tr>\n",
       "    <tr>\n",
       "      <th>9</th>\n",
       "      <td>0.007529</td>\n",
       "      <td>0.004370</td>\n",
       "      <td>0.048220</td>\n",
       "      <td>-0.035696</td>\n",
       "      <td>0.009437</td>\n",
       "      <td>0.057635</td>\n",
       "      <td>-0.0</td>\n",
       "      <td>0.0</td>\n",
       "      <td>0.0</td>\n",
       "      <td>0.0</td>\n",
       "      <td>0.0</td>\n",
       "    </tr>\n",
       "    <tr>\n",
       "      <th>10</th>\n",
       "      <td>-0.214020</td>\n",
       "      <td>0.112298</td>\n",
       "      <td>-0.151492</td>\n",
       "      <td>-0.344103</td>\n",
       "      <td>0.476711</td>\n",
       "      <td>-0.068104</td>\n",
       "      <td>0.0</td>\n",
       "      <td>0.0</td>\n",
       "      <td>-0.0</td>\n",
       "      <td>-0.0</td>\n",
       "      <td>-0.0</td>\n",
       "    </tr>\n",
       "  </tbody>\n",
       "</table>\n",
       "</div>"
      ],
      "text/plain": [
       "           0         1         2         3         4         5    6    7   \\\n",
       "0   -0.206102 -0.192330  1.476383 -0.061965 -0.094620 -0.192975 -0.0  0.0   \n",
       "1    0.012940 -0.014930 -0.058824  0.070961 -0.042317 -0.002530  0.0  0.0   \n",
       "2    0.005769 -0.024010  0.136733 -0.051435  0.032268  0.006306 -0.0 -0.0   \n",
       "3    0.291070  0.081224  0.360310  0.640380  0.628531  0.066701  0.0 -0.0   \n",
       "4    0.002149 -0.001925  0.010628  0.001907 -0.006283  0.019235  0.0  0.0   \n",
       "5    7.363578  7.356391  0.085630 -0.001862 -0.022409 -0.002971  0.0  0.0   \n",
       "6   32.828377 -1.650115 -0.018925 -0.009136  0.003133 -0.002714 -0.0  0.0   \n",
       "7    0.000126 -0.000199  0.001251  0.000714 -0.000255  0.000003 -0.0  0.0   \n",
       "8   -0.009038  0.025722 -0.104927  0.019530  0.015701 -0.003074 -0.0  0.0   \n",
       "9    0.007529  0.004370  0.048220 -0.035696  0.009437  0.057635 -0.0  0.0   \n",
       "10  -0.214020  0.112298 -0.151492 -0.344103  0.476711 -0.068104  0.0  0.0   \n",
       "\n",
       "     8    9    10  \n",
       "0  -0.0 -0.0  0.0  \n",
       "1  -0.0  0.0  0.0  \n",
       "2  -0.0  0.0 -0.0  \n",
       "3   0.0  0.0  0.0  \n",
       "4  -0.0 -0.0  0.0  \n",
       "5  -0.0  0.0 -0.0  \n",
       "6  -0.0 -0.0  0.0  \n",
       "7  -0.0 -0.0 -0.0  \n",
       "8  -0.0 -0.0  0.0  \n",
       "9   0.0  0.0  0.0  \n",
       "10 -0.0 -0.0 -0.0  "
      ]
     },
     "metadata": {},
     "output_type": "display_data"
    }
   ],
   "source": [
    "# Create a DataFrame for factor loadings\n",
    "loadings = pd.DataFrame(fa.components_.T)\n",
    "display(loadings)\n"
   ]
  },
  {
   "cell_type": "code",
   "execution_count": 242,
   "id": "b81edba3",
   "metadata": {},
   "outputs": [],
   "source": [
    "# Discriminant Analysis\n",
    "lda = LDA()\n",
    "lda = lda.fit(X_train, y_train)"
   ]
  },
  {
   "cell_type": "code",
   "execution_count": 243,
   "id": "10c930db",
   "metadata": {},
   "outputs": [
    {
     "ename": "ValueError",
     "evalue": "Could not interpret value `LD1` for `x`. An entry with this name does not appear in `data`.",
     "output_type": "error",
     "traceback": [
      "\u001b[31m---------------------------------------------------------------------------\u001b[39m",
      "\u001b[31mValueError\u001b[39m                                Traceback (most recent call last)",
      "\u001b[36mCell\u001b[39m\u001b[36m \u001b[39m\u001b[32mIn[243]\u001b[39m\u001b[32m, line 5\u001b[39m\n\u001b[32m      2\u001b[39m lda_df[\u001b[33m'\u001b[39m\u001b[33mquality\u001b[39m\u001b[33m'\u001b[39m] = y_train.values\n\u001b[32m      4\u001b[39m plt.figure(figsize=(\u001b[32m10\u001b[39m,\u001b[32m7\u001b[39m))\n\u001b[32m----> \u001b[39m\u001b[32m5\u001b[39m \u001b[43msns\u001b[49m\u001b[43m.\u001b[49m\u001b[43mscatterplot\u001b[49m\u001b[43m(\u001b[49m\u001b[43mdata\u001b[49m\u001b[43m=\u001b[49m\u001b[43mlda_df\u001b[49m\u001b[43m,\u001b[49m\u001b[43m \u001b[49m\u001b[43mx\u001b[49m\u001b[43m=\u001b[49m\u001b[33;43m'\u001b[39;49m\u001b[33;43mLD1\u001b[39;49m\u001b[33;43m'\u001b[39;49m\u001b[43m,\u001b[49m\u001b[43m \u001b[49m\u001b[43my\u001b[49m\u001b[43m=\u001b[49m\u001b[33;43m'\u001b[39;49m\u001b[33;43mLD2\u001b[39;49m\u001b[33;43m'\u001b[39;49m\u001b[43m,\u001b[49m\u001b[43mhue\u001b[49m\u001b[43m=\u001b[49m\u001b[33;43m'\u001b[39;49m\u001b[33;43mquality\u001b[39;49m\u001b[33;43m'\u001b[39;49m\u001b[43m,\u001b[49m\u001b[43m \u001b[49m\u001b[43mpalette\u001b[49m\u001b[43m=\u001b[49m\u001b[33;43m'\u001b[39;49m\u001b[33;43mSpectral\u001b[39;49m\u001b[33;43m'\u001b[39;49m\u001b[43m,\u001b[49m\u001b[43m \u001b[49m\u001b[43malpha\u001b[49m\u001b[43m=\u001b[49m\u001b[32;43m0.8\u001b[39;49m\u001b[43m)\u001b[49m\n\u001b[32m      6\u001b[39m plt.title(\u001b[33m'\u001b[39m\u001b[33mLDA: First Two Discriminant Components\u001b[39m\u001b[33m'\u001b[39m)\n\u001b[32m      7\u001b[39m plt.legend(title=\u001b[33m'\u001b[39m\u001b[33mWine Quality\u001b[39m\u001b[33m'\u001b[39m)\n",
      "\u001b[36mFile \u001b[39m\u001b[32mc:\\Users\\Stevi\\OneDrive\\Documents\\Projects\\.venv\\Lib\\site-packages\\seaborn\\relational.py:615\u001b[39m, in \u001b[36mscatterplot\u001b[39m\u001b[34m(data, x, y, hue, size, style, palette, hue_order, hue_norm, sizes, size_order, size_norm, markers, style_order, legend, ax, **kwargs)\u001b[39m\n\u001b[32m    606\u001b[39m \u001b[38;5;28;01mdef\u001b[39;00m\u001b[38;5;250m \u001b[39m\u001b[34mscatterplot\u001b[39m(\n\u001b[32m    607\u001b[39m     data=\u001b[38;5;28;01mNone\u001b[39;00m, *,\n\u001b[32m    608\u001b[39m     x=\u001b[38;5;28;01mNone\u001b[39;00m, y=\u001b[38;5;28;01mNone\u001b[39;00m, hue=\u001b[38;5;28;01mNone\u001b[39;00m, size=\u001b[38;5;28;01mNone\u001b[39;00m, style=\u001b[38;5;28;01mNone\u001b[39;00m,\n\u001b[32m   (...)\u001b[39m\u001b[32m    612\u001b[39m     **kwargs\n\u001b[32m    613\u001b[39m ):\n\u001b[32m--> \u001b[39m\u001b[32m615\u001b[39m     p = \u001b[43m_ScatterPlotter\u001b[49m\u001b[43m(\u001b[49m\n\u001b[32m    616\u001b[39m \u001b[43m        \u001b[49m\u001b[43mdata\u001b[49m\u001b[43m=\u001b[49m\u001b[43mdata\u001b[49m\u001b[43m,\u001b[49m\n\u001b[32m    617\u001b[39m \u001b[43m        \u001b[49m\u001b[43mvariables\u001b[49m\u001b[43m=\u001b[49m\u001b[38;5;28;43mdict\u001b[39;49m\u001b[43m(\u001b[49m\u001b[43mx\u001b[49m\u001b[43m=\u001b[49m\u001b[43mx\u001b[49m\u001b[43m,\u001b[49m\u001b[43m \u001b[49m\u001b[43my\u001b[49m\u001b[43m=\u001b[49m\u001b[43my\u001b[49m\u001b[43m,\u001b[49m\u001b[43m \u001b[49m\u001b[43mhue\u001b[49m\u001b[43m=\u001b[49m\u001b[43mhue\u001b[49m\u001b[43m,\u001b[49m\u001b[43m \u001b[49m\u001b[43msize\u001b[49m\u001b[43m=\u001b[49m\u001b[43msize\u001b[49m\u001b[43m,\u001b[49m\u001b[43m \u001b[49m\u001b[43mstyle\u001b[49m\u001b[43m=\u001b[49m\u001b[43mstyle\u001b[49m\u001b[43m)\u001b[49m\u001b[43m,\u001b[49m\n\u001b[32m    618\u001b[39m \u001b[43m        \u001b[49m\u001b[43mlegend\u001b[49m\u001b[43m=\u001b[49m\u001b[43mlegend\u001b[49m\n\u001b[32m    619\u001b[39m \u001b[43m    \u001b[49m\u001b[43m)\u001b[49m\n\u001b[32m    621\u001b[39m     p.map_hue(palette=palette, order=hue_order, norm=hue_norm)\n\u001b[32m    622\u001b[39m     p.map_size(sizes=sizes, order=size_order, norm=size_norm)\n",
      "\u001b[36mFile \u001b[39m\u001b[32mc:\\Users\\Stevi\\OneDrive\\Documents\\Projects\\.venv\\Lib\\site-packages\\seaborn\\relational.py:396\u001b[39m, in \u001b[36m_ScatterPlotter.__init__\u001b[39m\u001b[34m(self, data, variables, legend)\u001b[39m\n\u001b[32m    387\u001b[39m \u001b[38;5;28;01mdef\u001b[39;00m\u001b[38;5;250m \u001b[39m\u001b[34m__init__\u001b[39m(\u001b[38;5;28mself\u001b[39m, *, data=\u001b[38;5;28;01mNone\u001b[39;00m, variables={}, legend=\u001b[38;5;28;01mNone\u001b[39;00m):\n\u001b[32m    388\u001b[39m \n\u001b[32m    389\u001b[39m     \u001b[38;5;66;03m# TODO this is messy, we want the mapping to be agnostic about\u001b[39;00m\n\u001b[32m    390\u001b[39m     \u001b[38;5;66;03m# the kind of plot to draw, but for the time being we need to set\u001b[39;00m\n\u001b[32m    391\u001b[39m     \u001b[38;5;66;03m# this information so the SizeMapping can use it\u001b[39;00m\n\u001b[32m    392\u001b[39m     \u001b[38;5;28mself\u001b[39m._default_size_range = (\n\u001b[32m    393\u001b[39m         np.r_[\u001b[32m.5\u001b[39m, \u001b[32m2\u001b[39m] * np.square(mpl.rcParams[\u001b[33m\"\u001b[39m\u001b[33mlines.markersize\u001b[39m\u001b[33m\"\u001b[39m])\n\u001b[32m    394\u001b[39m     )\n\u001b[32m--> \u001b[39m\u001b[32m396\u001b[39m     \u001b[38;5;28;43msuper\u001b[39;49m\u001b[43m(\u001b[49m\u001b[43m)\u001b[49m\u001b[43m.\u001b[49m\u001b[34;43m__init__\u001b[39;49m\u001b[43m(\u001b[49m\u001b[43mdata\u001b[49m\u001b[43m=\u001b[49m\u001b[43mdata\u001b[49m\u001b[43m,\u001b[49m\u001b[43m \u001b[49m\u001b[43mvariables\u001b[49m\u001b[43m=\u001b[49m\u001b[43mvariables\u001b[49m\u001b[43m)\u001b[49m\n\u001b[32m    398\u001b[39m     \u001b[38;5;28mself\u001b[39m.legend = legend\n",
      "\u001b[36mFile \u001b[39m\u001b[32mc:\\Users\\Stevi\\OneDrive\\Documents\\Projects\\.venv\\Lib\\site-packages\\seaborn\\_base.py:634\u001b[39m, in \u001b[36mVectorPlotter.__init__\u001b[39m\u001b[34m(self, data, variables)\u001b[39m\n\u001b[32m    629\u001b[39m \u001b[38;5;66;03m# var_ordered is relevant only for categorical axis variables, and may\u001b[39;00m\n\u001b[32m    630\u001b[39m \u001b[38;5;66;03m# be better handled by an internal axis information object that tracks\u001b[39;00m\n\u001b[32m    631\u001b[39m \u001b[38;5;66;03m# such information and is set up by the scale_* methods. The analogous\u001b[39;00m\n\u001b[32m    632\u001b[39m \u001b[38;5;66;03m# information for numeric axes would be information about log scales.\u001b[39;00m\n\u001b[32m    633\u001b[39m \u001b[38;5;28mself\u001b[39m._var_ordered = {\u001b[33m\"\u001b[39m\u001b[33mx\u001b[39m\u001b[33m\"\u001b[39m: \u001b[38;5;28;01mFalse\u001b[39;00m, \u001b[33m\"\u001b[39m\u001b[33my\u001b[39m\u001b[33m\"\u001b[39m: \u001b[38;5;28;01mFalse\u001b[39;00m}  \u001b[38;5;66;03m# alt., used DefaultDict\u001b[39;00m\n\u001b[32m--> \u001b[39m\u001b[32m634\u001b[39m \u001b[38;5;28;43mself\u001b[39;49m\u001b[43m.\u001b[49m\u001b[43massign_variables\u001b[49m\u001b[43m(\u001b[49m\u001b[43mdata\u001b[49m\u001b[43m,\u001b[49m\u001b[43m \u001b[49m\u001b[43mvariables\u001b[49m\u001b[43m)\u001b[49m\n\u001b[32m    636\u001b[39m \u001b[38;5;66;03m# TODO Lots of tests assume that these are called to initialize the\u001b[39;00m\n\u001b[32m    637\u001b[39m \u001b[38;5;66;03m# mappings to default values on class initialization. I'd prefer to\u001b[39;00m\n\u001b[32m    638\u001b[39m \u001b[38;5;66;03m# move away from that and only have a mapping when explicitly called.\u001b[39;00m\n\u001b[32m    639\u001b[39m \u001b[38;5;28;01mfor\u001b[39;00m var \u001b[38;5;129;01min\u001b[39;00m [\u001b[33m\"\u001b[39m\u001b[33mhue\u001b[39m\u001b[33m\"\u001b[39m, \u001b[33m\"\u001b[39m\u001b[33msize\u001b[39m\u001b[33m\"\u001b[39m, \u001b[33m\"\u001b[39m\u001b[33mstyle\u001b[39m\u001b[33m\"\u001b[39m]:\n",
      "\u001b[36mFile \u001b[39m\u001b[32mc:\\Users\\Stevi\\OneDrive\\Documents\\Projects\\.venv\\Lib\\site-packages\\seaborn\\_base.py:679\u001b[39m, in \u001b[36mVectorPlotter.assign_variables\u001b[39m\u001b[34m(self, data, variables)\u001b[39m\n\u001b[32m    674\u001b[39m \u001b[38;5;28;01melse\u001b[39;00m:\n\u001b[32m    675\u001b[39m     \u001b[38;5;66;03m# When dealing with long-form input, use the newer PlotData\u001b[39;00m\n\u001b[32m    676\u001b[39m     \u001b[38;5;66;03m# object (internal but introduced for the objects interface)\u001b[39;00m\n\u001b[32m    677\u001b[39m     \u001b[38;5;66;03m# to centralize / standardize data consumption logic.\u001b[39;00m\n\u001b[32m    678\u001b[39m     \u001b[38;5;28mself\u001b[39m.input_format = \u001b[33m\"\u001b[39m\u001b[33mlong\u001b[39m\u001b[33m\"\u001b[39m\n\u001b[32m--> \u001b[39m\u001b[32m679\u001b[39m     plot_data = \u001b[43mPlotData\u001b[49m\u001b[43m(\u001b[49m\u001b[43mdata\u001b[49m\u001b[43m,\u001b[49m\u001b[43m \u001b[49m\u001b[43mvariables\u001b[49m\u001b[43m)\u001b[49m\n\u001b[32m    680\u001b[39m     frame = plot_data.frame\n\u001b[32m    681\u001b[39m     names = plot_data.names\n",
      "\u001b[36mFile \u001b[39m\u001b[32mc:\\Users\\Stevi\\OneDrive\\Documents\\Projects\\.venv\\Lib\\site-packages\\seaborn\\_core\\data.py:58\u001b[39m, in \u001b[36mPlotData.__init__\u001b[39m\u001b[34m(self, data, variables)\u001b[39m\n\u001b[32m     51\u001b[39m \u001b[38;5;28;01mdef\u001b[39;00m\u001b[38;5;250m \u001b[39m\u001b[34m__init__\u001b[39m(\n\u001b[32m     52\u001b[39m     \u001b[38;5;28mself\u001b[39m,\n\u001b[32m     53\u001b[39m     data: DataSource,\n\u001b[32m     54\u001b[39m     variables: \u001b[38;5;28mdict\u001b[39m[\u001b[38;5;28mstr\u001b[39m, VariableSpec],\n\u001b[32m     55\u001b[39m ):\n\u001b[32m     57\u001b[39m     data = handle_data_source(data)\n\u001b[32m---> \u001b[39m\u001b[32m58\u001b[39m     frame, names, ids = \u001b[38;5;28;43mself\u001b[39;49m\u001b[43m.\u001b[49m\u001b[43m_assign_variables\u001b[49m\u001b[43m(\u001b[49m\u001b[43mdata\u001b[49m\u001b[43m,\u001b[49m\u001b[43m \u001b[49m\u001b[43mvariables\u001b[49m\u001b[43m)\u001b[49m\n\u001b[32m     60\u001b[39m     \u001b[38;5;28mself\u001b[39m.frame = frame\n\u001b[32m     61\u001b[39m     \u001b[38;5;28mself\u001b[39m.names = names\n",
      "\u001b[36mFile \u001b[39m\u001b[32mc:\\Users\\Stevi\\OneDrive\\Documents\\Projects\\.venv\\Lib\\site-packages\\seaborn\\_core\\data.py:232\u001b[39m, in \u001b[36mPlotData._assign_variables\u001b[39m\u001b[34m(self, data, variables)\u001b[39m\n\u001b[32m    230\u001b[39m     \u001b[38;5;28;01melse\u001b[39;00m:\n\u001b[32m    231\u001b[39m         err += \u001b[33m\"\u001b[39m\u001b[33mAn entry with this name does not appear in `data`.\u001b[39m\u001b[33m\"\u001b[39m\n\u001b[32m--> \u001b[39m\u001b[32m232\u001b[39m     \u001b[38;5;28;01mraise\u001b[39;00m \u001b[38;5;167;01mValueError\u001b[39;00m(err)\n\u001b[32m    234\u001b[39m \u001b[38;5;28;01melse\u001b[39;00m:\n\u001b[32m    235\u001b[39m \n\u001b[32m    236\u001b[39m     \u001b[38;5;66;03m# Otherwise, assume the value somehow represents data\u001b[39;00m\n\u001b[32m    237\u001b[39m \n\u001b[32m    238\u001b[39m     \u001b[38;5;66;03m# Ignore empty data structures\u001b[39;00m\n\u001b[32m    239\u001b[39m     \u001b[38;5;28;01mif\u001b[39;00m \u001b[38;5;28misinstance\u001b[39m(val, Sized) \u001b[38;5;129;01mand\u001b[39;00m \u001b[38;5;28mlen\u001b[39m(val) == \u001b[32m0\u001b[39m:\n",
      "\u001b[31mValueError\u001b[39m: Could not interpret value `LD1` for `x`. An entry with this name does not appear in `data`."
     ]
    },
    {
     "data": {
      "text/plain": [
       "<Figure size 1000x700 with 0 Axes>"
      ]
     },
     "metadata": {},
     "output_type": "display_data"
    }
   ],
   "source": [
    "lda_df = pd.DataFrame(lda.transform(X_train))\n",
    "lda_df['quality'] = y_train.values\n",
    "\n",
    "plt.figure(figsize=(10,7))\n",
    "sns.scatterplot(data=lda_df, x='LD1', y='LD2',hue='quality', palette='Spectral', alpha=0.8)\n",
    "plt.title('LDA: First Two Discriminant Components')\n",
    "plt.legend(title='Wine Quality')\n",
    "plt.show()\n"
   ]
  },
  {
   "cell_type": "code",
   "execution_count": null,
   "id": "b761658d",
   "metadata": {},
   "outputs": [
    {
     "name": "stdout",
     "output_type": "stream",
     "text": [
      "Accuracy: 0.559375\n"
     ]
    },
    {
     "data": {
      "image/png": "[encoded data removed]",
      "text/plain": [
       "<Figure size 640x480 with 2 Axes>"
      ]
     },
     "metadata": {},
     "output_type": "display_data"
    },
    {
     "name": "stdout",
     "output_type": "stream",
     "text": [
      "              precision    recall  f1-score   support\n",
      "\n",
      "           3       0.00      0.00      0.00         1\n",
      "           4       0.00      0.00      0.00        10\n",
      "           5       0.64      0.74      0.68       130\n",
      "           6       0.54      0.53      0.53       132\n",
      "           7       0.36      0.31      0.33        42\n",
      "           8       0.00      0.00      0.00         5\n",
      "\n",
      "    accuracy                           0.56       320\n",
      "   macro avg       0.26      0.26      0.26       320\n",
      "weighted avg       0.53      0.56      0.54       320\n",
      "\n"
     ]
    },
    {
     "name": "stderr",
     "output_type": "stream",
     "text": [
      "c:\\Users\\Stevi\\OneDrive\\Documents\\Projects\\.venv\\Lib\\site-packages\\sklearn\\metrics\\_classification.py:1731: UndefinedMetricWarning: Precision is ill-defined and being set to 0.0 in labels with no predicted samples. Use `zero_division` parameter to control this behavior.\n",
      "  _warn_prf(average, modifier, f\"{metric.capitalize()} is\", result.shape[0])\n",
      "c:\\Users\\Stevi\\OneDrive\\Documents\\Projects\\.venv\\Lib\\site-packages\\sklearn\\metrics\\_classification.py:1731: UndefinedMetricWarning: Precision is ill-defined and being set to 0.0 in labels with no predicted samples. Use `zero_division` parameter to control this behavior.\n",
      "  _warn_prf(average, modifier, f\"{metric.capitalize()} is\", result.shape[0])\n",
      "c:\\Users\\Stevi\\OneDrive\\Documents\\Projects\\.venv\\Lib\\site-packages\\sklearn\\metrics\\_classification.py:1731: UndefinedMetricWarning: Precision is ill-defined and being set to 0.0 in labels with no predicted samples. Use `zero_division` parameter to control this behavior.\n",
      "  _warn_prf(average, modifier, f\"{metric.capitalize()} is\", result.shape[0])\n"
     ]
    }
   ],
   "source": [
    "y_pred = lda.predict(X_test)\n",
    "print(\"Accuracy:\", accuracy_score(y_test, y_pred))\n",
    "\n",
    "# Confusion matrix\n",
    "cm = confusion_matrix(y_test, y_pred)\n",
    "sns.heatmap(cm, annot=True, fmt='d', cmap='Blues')\n",
    "plt.xlabel('Predicted')\n",
    "plt.ylabel('Actual')\n",
    "plt.title('Confusion Matrix')\n",
    "plt.show()\n",
    "\n",
    "# Detailed metrics\n",
    "print(classification_report(y_test, y_pred))\n"
   ]
  },
  {
   "cell_type": "code",
   "execution_count": null,
   "id": "065057d6",
   "metadata": {},
   "outputs": [
    {
     "name": "stdout",
     "output_type": "stream",
     "text": [
      "Accuracy: 0.575\n",
      "              precision    recall  f1-score   support\n",
      "\n",
      "           3       0.00      0.00      0.00         1\n",
      "           4       1.00      0.10      0.18        10\n",
      "           5       0.63      0.75      0.69       130\n",
      "           6       0.54      0.58      0.56       132\n",
      "           7       0.39      0.21      0.28        42\n",
      "           8       0.00      0.00      0.00         5\n",
      "\n",
      "    accuracy                           0.57       320\n",
      "   macro avg       0.43      0.27      0.28       320\n",
      "weighted avg       0.56      0.57      0.55       320\n",
      "\n"
     ]
    },
    {
     "name": "stderr",
     "output_type": "stream",
     "text": [
      "c:\\Users\\Stevi\\OneDrive\\Documents\\Projects\\.venv\\Lib\\site-packages\\sklearn\\metrics\\_classification.py:1731: UndefinedMetricWarning: Precision is ill-defined and being set to 0.0 in labels with no predicted samples. Use `zero_division` parameter to control this behavior.\n",
      "  _warn_prf(average, modifier, f\"{metric.capitalize()} is\", result.shape[0])\n",
      "c:\\Users\\Stevi\\OneDrive\\Documents\\Projects\\.venv\\Lib\\site-packages\\sklearn\\metrics\\_classification.py:1731: UndefinedMetricWarning: Precision is ill-defined and being set to 0.0 in labels with no predicted samples. Use `zero_division` parameter to control this behavior.\n",
      "  _warn_prf(average, modifier, f\"{metric.capitalize()} is\", result.shape[0])\n",
      "c:\\Users\\Stevi\\OneDrive\\Documents\\Projects\\.venv\\Lib\\site-packages\\sklearn\\metrics\\_classification.py:1731: UndefinedMetricWarning: Precision is ill-defined and being set to 0.0 in labels with no predicted samples. Use `zero_division` parameter to control this behavior.\n",
      "  _warn_prf(average, modifier, f\"{metric.capitalize()} is\", result.shape[0])\n"
     ]
    }
   ],
   "source": [
    "lr = LogisticRegression()\n",
    "lr.fit(X_train, y_train)\n",
    "y_pred = lr.predict(X_test)\n",
    "print(\"Accuracy:\", accuracy_score(y_test, y_pred))\n",
    "print(classification_report(y_test, y_pred))\n"
   ]
  },
  {
   "cell_type": "code",
   "execution_count": null,
   "id": "6bcc7be3",
   "metadata": {},
   "outputs": [],
   "source": [
    "y_probs = lr.predict_proba(X_test)[:,1]"
   ]
  },
  {
   "cell_type": "code",
   "execution_count": null,
   "id": "36a31c3e",
   "metadata": {},
   "outputs": [],
   "source": [
    "# Binarize y_test for ROC curve (e.g., quality >= 6 as positive class)\n",
    "y_test_binary = (y_test >= 6).astype(int)\n",
    "fpr, tpr, thresholds = roc_curve(y_test_binary, y_probs)"
   ]
  },
  {
   "cell_type": "code",
   "execution_count": null,
   "id": "2521af65",
   "metadata": {},
   "outputs": [
    {
     "ename": "ValueError",
     "evalue": "multi_class must be in ('ovo', 'ovr')",
     "output_type": "error",
     "traceback": [
      "\u001b[31m---------------------------------------------------------------------------\u001b[39m",
      "\u001b[31mValueError\u001b[39m                                Traceback (most recent call last)",
      "\u001b[36mCell\u001b[39m\u001b[36m \u001b[39m\u001b[32mIn[192]\u001b[39m\u001b[32m, line 2\u001b[39m\n\u001b[32m      1\u001b[39m plt.figure(figsize=(\u001b[32m8\u001b[39m,\u001b[32m6\u001b[39m))\n\u001b[32m----> \u001b[39m\u001b[32m2\u001b[39m plt.plot(fpr, tpr, label=\u001b[33m'\u001b[39m\u001b[33mROC Curve (AUC = \u001b[39m\u001b[38;5;132;01m{:.2f}\u001b[39;00m\u001b[33m)\u001b[39m\u001b[33m'\u001b[39m.format(\u001b[43mroc_auc_score\u001b[49m\u001b[43m(\u001b[49m\u001b[43my_test\u001b[49m\u001b[43m,\u001b[49m\u001b[43m \u001b[49m\u001b[43my_probs\u001b[49m\u001b[43m)\u001b[49m))\n\u001b[32m      3\u001b[39m plt.plot([\u001b[32m0\u001b[39m, \u001b[32m1\u001b[39m], [\u001b[32m0\u001b[39m, \u001b[32m1\u001b[39m], \u001b[33m'\u001b[39m\u001b[33mk--\u001b[39m\u001b[33m'\u001b[39m, label=\u001b[33m'\u001b[39m\u001b[33mRandom Classifier\u001b[39m\u001b[33m'\u001b[39m)\n\u001b[32m      4\u001b[39m plt.xlabel(\u001b[33m'\u001b[39m\u001b[33mFalse Positive Rate\u001b[39m\u001b[33m'\u001b[39m)\n",
      "\u001b[36mFile \u001b[39m\u001b[32mc:\\Users\\Stevi\\OneDrive\\Documents\\Projects\\.venv\\Lib\\site-packages\\sklearn\\utils\\_param_validation.py:218\u001b[39m, in \u001b[36mvalidate_params.<locals>.decorator.<locals>.wrapper\u001b[39m\u001b[34m(*args, **kwargs)\u001b[39m\n\u001b[32m    212\u001b[39m \u001b[38;5;28;01mtry\u001b[39;00m:\n\u001b[32m    213\u001b[39m     \u001b[38;5;28;01mwith\u001b[39;00m config_context(\n\u001b[32m    214\u001b[39m         skip_parameter_validation=(\n\u001b[32m    215\u001b[39m             prefer_skip_nested_validation \u001b[38;5;129;01mor\u001b[39;00m global_skip_validation\n\u001b[32m    216\u001b[39m         )\n\u001b[32m    217\u001b[39m     ):\n\u001b[32m--> \u001b[39m\u001b[32m218\u001b[39m         \u001b[38;5;28;01mreturn\u001b[39;00m \u001b[43mfunc\u001b[49m\u001b[43m(\u001b[49m\u001b[43m*\u001b[49m\u001b[43margs\u001b[49m\u001b[43m,\u001b[49m\u001b[43m \u001b[49m\u001b[43m*\u001b[49m\u001b[43m*\u001b[49m\u001b[43mkwargs\u001b[49m\u001b[43m)\u001b[49m\n\u001b[32m    219\u001b[39m \u001b[38;5;28;01mexcept\u001b[39;00m InvalidParameterError \u001b[38;5;28;01mas\u001b[39;00m e:\n\u001b[32m    220\u001b[39m     \u001b[38;5;66;03m# When the function is just a wrapper around an estimator, we allow\u001b[39;00m\n\u001b[32m    221\u001b[39m     \u001b[38;5;66;03m# the function to delegate validation to the estimator, but we replace\u001b[39;00m\n\u001b[32m    222\u001b[39m     \u001b[38;5;66;03m# the name of the estimator by the name of the function in the error\u001b[39;00m\n\u001b[32m    223\u001b[39m     \u001b[38;5;66;03m# message to avoid confusion.\u001b[39;00m\n\u001b[32m    224\u001b[39m     msg = re.sub(\n\u001b[32m    225\u001b[39m         \u001b[33mr\u001b[39m\u001b[33m\"\u001b[39m\u001b[33mparameter of \u001b[39m\u001b[33m\\\u001b[39m\u001b[33mw+ must be\u001b[39m\u001b[33m\"\u001b[39m,\n\u001b[32m    226\u001b[39m         \u001b[33mf\u001b[39m\u001b[33m\"\u001b[39m\u001b[33mparameter of \u001b[39m\u001b[38;5;132;01m{\u001b[39;00mfunc.\u001b[34m__qualname__\u001b[39m\u001b[38;5;132;01m}\u001b[39;00m\u001b[33m must be\u001b[39m\u001b[33m\"\u001b[39m,\n\u001b[32m    227\u001b[39m         \u001b[38;5;28mstr\u001b[39m(e),\n\u001b[32m    228\u001b[39m     )\n",
      "\u001b[36mFile \u001b[39m\u001b[32mc:\\Users\\Stevi\\OneDrive\\Documents\\Projects\\.venv\\Lib\\site-packages\\sklearn\\metrics\\_ranking.py:679\u001b[39m, in \u001b[36mroc_auc_score\u001b[39m\u001b[34m(y_true, y_score, average, sample_weight, max_fpr, multi_class, labels)\u001b[39m\n\u001b[32m    672\u001b[39m         \u001b[38;5;28;01mraise\u001b[39;00m \u001b[38;5;167;01mValueError\u001b[39;00m(\n\u001b[32m    673\u001b[39m             \u001b[33m\"\u001b[39m\u001b[33mPartial AUC computation not available in \u001b[39m\u001b[33m\"\u001b[39m\n\u001b[32m    674\u001b[39m             \u001b[33m\"\u001b[39m\u001b[33mmulticlass setting, \u001b[39m\u001b[33m'\u001b[39m\u001b[33mmax_fpr\u001b[39m\u001b[33m'\u001b[39m\u001b[33m must be\u001b[39m\u001b[33m\"\u001b[39m\n\u001b[32m    675\u001b[39m             \u001b[33m\"\u001b[39m\u001b[33m set to `None`, received `max_fpr=\u001b[39m\u001b[38;5;132;01m{0}\u001b[39;00m\u001b[33m` \u001b[39m\u001b[33m\"\u001b[39m\n\u001b[32m    676\u001b[39m             \u001b[33m\"\u001b[39m\u001b[33minstead\u001b[39m\u001b[33m\"\u001b[39m.format(max_fpr)\n\u001b[32m    677\u001b[39m         )\n\u001b[32m    678\u001b[39m     \u001b[38;5;28;01mif\u001b[39;00m multi_class == \u001b[33m\"\u001b[39m\u001b[33mraise\u001b[39m\u001b[33m\"\u001b[39m:\n\u001b[32m--> \u001b[39m\u001b[32m679\u001b[39m         \u001b[38;5;28;01mraise\u001b[39;00m \u001b[38;5;167;01mValueError\u001b[39;00m(\u001b[33m\"\u001b[39m\u001b[33mmulti_class must be in (\u001b[39m\u001b[33m'\u001b[39m\u001b[33movo\u001b[39m\u001b[33m'\u001b[39m\u001b[33m, \u001b[39m\u001b[33m'\u001b[39m\u001b[33movr\u001b[39m\u001b[33m'\u001b[39m\u001b[33m)\u001b[39m\u001b[33m\"\u001b[39m)\n\u001b[32m    680\u001b[39m     \u001b[38;5;28;01mreturn\u001b[39;00m _multiclass_roc_auc_score(\n\u001b[32m    681\u001b[39m         y_true, y_score, labels, multi_class, average, sample_weight\n\u001b[32m    682\u001b[39m     )\n\u001b[32m    683\u001b[39m \u001b[38;5;28;01melif\u001b[39;00m y_type == \u001b[33m\"\u001b[39m\u001b[33mbinary\u001b[39m\u001b[33m\"\u001b[39m:\n",
      "\u001b[31mValueError\u001b[39m: multi_class must be in ('ovo', 'ovr')"
     ]
    },
    {
     "data": {
      "text/plain": [
       "<Figure size 800x600 with 0 Axes>"
      ]
     },
     "metadata": {},
     "output_type": "display_data"
    }
   ],
   "source": [
    "plt.figure(figsize=(8,6))\n",
    "plt.plot(fpr, tpr, label='ROC Curve (AUC = {:.2f})'.format(roc_auc_score(y_test, y_probs)))\n",
    "plt.plot([0, 1], [0, 1], 'k--', label='Random Classifier')\n",
    "plt.xlabel('False Positive Rate')\n",
    "plt.ylabel('True Positive Rate')\n",
    "plt.title('ROC Curve')\n",
    "plt.legend(loc='lower right')\n",
    "plt.grid()\n",
    "plt.show()"
   ]
  }
 ],
 "metadata": {
  "kernelspec": {
   "display_name": ".venv",
   "language": "python",
   "name": "python3"
  },
  "language_info": {
   "codemirror_mode": {
    "name": "ipython",
    "version": 3
   },
   "file_extension": ".py",
   "mimetype": "text/x-python",
   "name": "python",
   "nbconvert_exporter": "python",
   "pygments_lexer": "ipython3",
   "version": "3.11.9"
  }
 },
 "nbformat": 4,
 "nbformat_minor": 5
}
