{
 "cells": [
  {
   "cell_type": "code",
   "execution_count": 1,
   "id": "71db52a5",
   "metadata": {},
   "outputs": [],
   "source": [
    "import pandas as pd"
   ]
  },
  {
   "cell_type": "code",
   "execution_count": 2,
   "id": "06752a76",
   "metadata": {},
   "outputs": [],
   "source": [
    "\n",
    "# --- Load your datasets ---\n",
    "# Assume all CSVs have: Date, Open, High, Low, Close\n",
    "brent = pd.read_csv(r\"C:\\Users\\Stevi\\OneDrive\\Documents\\Projects\\Crude-Oil\\new\\Crude-Oil\\new\\brent_ohlc.csv\", parse_dates=[\"Date\"], index_col=\"Date\")\n",
    "oman = pd.read_csv(r\"C:\\Users\\Stevi\\OneDrive\\Documents\\Projects\\Crude-Oil\\new\\Crude-Oil\\new\\oman_ohlc.csv\", parse_dates=[\"Date\"], index_col=\"Date\")\n",
    "dubai = pd.read_csv(r\"C:\\Users\\Stevi\\OneDrive\\Documents\\Projects\\Crude-Oil\\new\\Crude-Oil\\new\\Dubai.csv\", parse_dates=[\"Date\"], index_col=\"Date\")"
   ]
  },
  {
   "cell_type": "code",
   "execution_count": 3,
   "id": "afefacad",
   "metadata": {},
   "outputs": [
    {
     "data": {
      "application/vnd.microsoft.datawrangler.viewer.v0+json": {
       "columns": [
        {
         "name": "Date",
         "rawType": "object",
         "type": "string"
        },
        {
         "name": "Open",
         "rawType": "float64",
         "type": "float"
        },
        {
         "name": "High",
         "rawType": "float64",
         "type": "float"
        },
        {
         "name": "Low",
         "rawType": "float64",
         "type": "float"
        },
        {
         "name": "Close",
         "rawType": "float64",
         "type": "float"
        },
        {
         "name": "Adj_Close",
         "rawType": "float64",
         "type": "float"
        },
        {
         "name": "Volume",
         "rawType": "int64",
         "type": "integer"
        }
       ],
       "ref": "5fcf0222-e0e3-4196-b7e9-d6c0e28337d5",
       "rows": [
        [
         "04-01-2016",
         "1.468400002",
         "1.468400002",
         "1.468400002",
         "1.468400002",
         null,
         "0"
        ],
        [
         "05-01-2016",
         "1.466199994",
         "1.466199994",
         "1.466099977",
         "1.466099977",
         null,
         "0"
        ],
        [
         "06-01-2016",
         "1.462900043",
         "1.462900043",
         "1.462700009",
         "1.462700009",
         null,
         "0"
        ],
        [
         "07-01-2016",
         "1.457800031",
         "1.457800031",
         "1.457800031",
         "1.457800031",
         null,
         "0"
        ],
        [
         "08-01-2016",
         "1.451900005",
         "1.451900005",
         "1.451799989",
         "1.451799989",
         null,
         "0"
        ],
        [
         "11-01-2016",
         "1.456099987",
         "1.456200004",
         "1.456099987",
         "1.456200004",
         null,
         "0"
        ],
        [
         "12-01-2016",
         "1.440000057",
         "1.440099955",
         "1.440000057",
         "1.440099955",
         null,
         "0"
        ],
        [
         "13-01-2016",
         "1.446799994",
         "1.446799994",
         "1.446799994",
         "1.446799994",
         null,
         "0"
        ],
        [
         "14-01-2016",
         "1.441100001",
         "1.441100001",
         "1.440999985",
         "1.440999985",
         null,
         "0"
        ],
        [
         "15-01-2016",
         "1.429100037",
         "1.429100037",
         "1.429100037",
         "1.429100037",
         null,
         "0"
        ],
        [
         "19-01-2016",
         "1.417000055",
         "1.417099953",
         "1.417000055",
         "1.417000055",
         null,
         "0"
        ],
        [
         "20-01-2016",
         "1.416700006",
         "1.416700006",
         "1.416700006",
         "1.416700006",
         null,
         "0"
        ],
        [
         "21-01-2016",
         "1.41989994",
         "1.41989994",
         "1.41960001",
         "1.41960001",
         null,
         "0"
        ],
        [
         "22-01-2016",
         "1.430699944",
         "1.430799961",
         "1.430699944",
         "1.430699944",
         null,
         "0"
        ],
        [
         "25-01-2016",
         "1.424700022",
         "1.424700022",
         "1.424499989",
         "1.424499989",
         null,
         "0"
        ]
       ],
       "shape": {
        "columns": 6,
        "rows": 15
       }
      },
      "text/html": [
       "<div>\n",
       "<style scoped>\n",
       "    .dataframe tbody tr th:only-of-type {\n",
       "        vertical-align: middle;\n",
       "    }\n",
       "\n",
       "    .dataframe tbody tr th {\n",
       "        vertical-align: top;\n",
       "    }\n",
       "\n",
       "    .dataframe thead th {\n",
       "        text-align: right;\n",
       "    }\n",
       "</style>\n",
       "<table border=\"1\" class=\"dataframe\">\n",
       "  <thead>\n",
       "    <tr style=\"text-align: right;\">\n",
       "      <th></th>\n",
       "      <th>Open</th>\n",
       "      <th>High</th>\n",
       "      <th>Low</th>\n",
       "      <th>Close</th>\n",
       "      <th>Adj_Close</th>\n",
       "      <th>Volume</th>\n",
       "    </tr>\n",
       "    <tr>\n",
       "      <th>Date</th>\n",
       "      <th></th>\n",
       "      <th></th>\n",
       "      <th></th>\n",
       "      <th></th>\n",
       "      <th></th>\n",
       "      <th></th>\n",
       "    </tr>\n",
       "  </thead>\n",
       "  <tbody>\n",
       "    <tr>\n",
       "      <th>04-01-2016</th>\n",
       "      <td>1.4684</td>\n",
       "      <td>1.4684</td>\n",
       "      <td>1.4684</td>\n",
       "      <td>1.4684</td>\n",
       "      <td>NaN</td>\n",
       "      <td>0</td>\n",
       "    </tr>\n",
       "    <tr>\n",
       "      <th>05-01-2016</th>\n",
       "      <td>1.4662</td>\n",
       "      <td>1.4662</td>\n",
       "      <td>1.4661</td>\n",
       "      <td>1.4661</td>\n",
       "      <td>NaN</td>\n",
       "      <td>0</td>\n",
       "    </tr>\n",
       "    <tr>\n",
       "      <th>06-01-2016</th>\n",
       "      <td>1.4629</td>\n",
       "      <td>1.4629</td>\n",
       "      <td>1.4627</td>\n",
       "      <td>1.4627</td>\n",
       "      <td>NaN</td>\n",
       "      <td>0</td>\n",
       "    </tr>\n",
       "    <tr>\n",
       "      <th>07-01-2016</th>\n",
       "      <td>1.4578</td>\n",
       "      <td>1.4578</td>\n",
       "      <td>1.4578</td>\n",
       "      <td>1.4578</td>\n",
       "      <td>NaN</td>\n",
       "      <td>0</td>\n",
       "    </tr>\n",
       "    <tr>\n",
       "      <th>08-01-2016</th>\n",
       "      <td>1.4519</td>\n",
       "      <td>1.4519</td>\n",
       "      <td>1.4518</td>\n",
       "      <td>1.4518</td>\n",
       "      <td>NaN</td>\n",
       "      <td>0</td>\n",
       "    </tr>\n",
       "    <tr>\n",
       "      <th>11-01-2016</th>\n",
       "      <td>1.4561</td>\n",
       "      <td>1.4562</td>\n",
       "      <td>1.4561</td>\n",
       "      <td>1.4562</td>\n",
       "      <td>NaN</td>\n",
       "      <td>0</td>\n",
       "    </tr>\n",
       "    <tr>\n",
       "      <th>12-01-2016</th>\n",
       "      <td>1.4400</td>\n",
       "      <td>1.4401</td>\n",
       "      <td>1.4400</td>\n",
       "      <td>1.4401</td>\n",
       "      <td>NaN</td>\n",
       "      <td>0</td>\n",
       "    </tr>\n",
       "    <tr>\n",
       "      <th>13-01-2016</th>\n",
       "      <td>1.4468</td>\n",
       "      <td>1.4468</td>\n",
       "      <td>1.4468</td>\n",
       "      <td>1.4468</td>\n",
       "      <td>NaN</td>\n",
       "      <td>0</td>\n",
       "    </tr>\n",
       "    <tr>\n",
       "      <th>14-01-2016</th>\n",
       "      <td>1.4411</td>\n",
       "      <td>1.4411</td>\n",
       "      <td>1.4410</td>\n",
       "      <td>1.4410</td>\n",
       "      <td>NaN</td>\n",
       "      <td>0</td>\n",
       "    </tr>\n",
       "    <tr>\n",
       "      <th>15-01-2016</th>\n",
       "      <td>1.4291</td>\n",
       "      <td>1.4291</td>\n",
       "      <td>1.4291</td>\n",
       "      <td>1.4291</td>\n",
       "      <td>NaN</td>\n",
       "      <td>0</td>\n",
       "    </tr>\n",
       "    <tr>\n",
       "      <th>19-01-2016</th>\n",
       "      <td>1.4170</td>\n",
       "      <td>1.4171</td>\n",
       "      <td>1.4170</td>\n",
       "      <td>1.4170</td>\n",
       "      <td>NaN</td>\n",
       "      <td>0</td>\n",
       "    </tr>\n",
       "    <tr>\n",
       "      <th>20-01-2016</th>\n",
       "      <td>1.4167</td>\n",
       "      <td>1.4167</td>\n",
       "      <td>1.4167</td>\n",
       "      <td>1.4167</td>\n",
       "      <td>NaN</td>\n",
       "      <td>0</td>\n",
       "    </tr>\n",
       "    <tr>\n",
       "      <th>21-01-2016</th>\n",
       "      <td>1.4199</td>\n",
       "      <td>1.4199</td>\n",
       "      <td>1.4196</td>\n",
       "      <td>1.4196</td>\n",
       "      <td>NaN</td>\n",
       "      <td>0</td>\n",
       "    </tr>\n",
       "    <tr>\n",
       "      <th>22-01-2016</th>\n",
       "      <td>1.4307</td>\n",
       "      <td>1.4308</td>\n",
       "      <td>1.4307</td>\n",
       "      <td>1.4307</td>\n",
       "      <td>NaN</td>\n",
       "      <td>0</td>\n",
       "    </tr>\n",
       "    <tr>\n",
       "      <th>25-01-2016</th>\n",
       "      <td>1.4247</td>\n",
       "      <td>1.4247</td>\n",
       "      <td>1.4245</td>\n",
       "      <td>1.4245</td>\n",
       "      <td>NaN</td>\n",
       "      <td>0</td>\n",
       "    </tr>\n",
       "  </tbody>\n",
       "</table>\n",
       "</div>"
      ],
      "text/plain": [
       "              Open    High     Low   Close  Adj_Close  Volume\n",
       "Date                                                         \n",
       "04-01-2016  1.4684  1.4684  1.4684  1.4684        NaN       0\n",
       "05-01-2016  1.4662  1.4662  1.4661  1.4661        NaN       0\n",
       "06-01-2016  1.4629  1.4629  1.4627  1.4627        NaN       0\n",
       "07-01-2016  1.4578  1.4578  1.4578  1.4578        NaN       0\n",
       "08-01-2016  1.4519  1.4519  1.4518  1.4518        NaN       0\n",
       "11-01-2016  1.4561  1.4562  1.4561  1.4562        NaN       0\n",
       "12-01-2016  1.4400  1.4401  1.4400  1.4401        NaN       0\n",
       "13-01-2016  1.4468  1.4468  1.4468  1.4468        NaN       0\n",
       "14-01-2016  1.4411  1.4411  1.4410  1.4410        NaN       0\n",
       "15-01-2016  1.4291  1.4291  1.4291  1.4291        NaN       0\n",
       "19-01-2016  1.4170  1.4171  1.4170  1.4170        NaN       0\n",
       "20-01-2016  1.4167  1.4167  1.4167  1.4167        NaN       0\n",
       "21-01-2016  1.4199  1.4199  1.4196  1.4196        NaN       0\n",
       "22-01-2016  1.4307  1.4308  1.4307  1.4307        NaN       0\n",
       "25-01-2016  1.4247  1.4247  1.4245  1.4245        NaN       0"
      ]
     },
     "execution_count": 3,
     "metadata": {},
     "output_type": "execute_result"
    }
   ],
   "source": [
    "oman"
   ]
  },
  {
   "cell_type": "code",
   "execution_count": 4,
   "id": "04b54380",
   "metadata": {},
   "outputs": [],
   "source": [
    "# Rename columns for clarity\n",
    "brent = brent[[\"Open\", \"High\", \"Low\", \"Close\"]].add_prefix(\"Brent_\")\n",
    "dubai = dubai[[\"Open\", \"High\", \"Low\", \"Close\"]].add_prefix(\"Dubai_\")"
   ]
  },
  {
   "cell_type": "code",
   "execution_count": 5,
   "id": "752d9c25",
   "metadata": {},
   "outputs": [],
   "source": [
    "# Merge on Date\n",
    "df = brent.join([dubai], how=\"inner\")"
   ]
  },
  {
   "cell_type": "code",
   "execution_count": 6,
   "id": "8a188f2f",
   "metadata": {},
   "outputs": [],
   "source": [
    "# --- Compute ICB OHLC (75% Dubai + 25% Brent) ---\n",
    "df[\"ICB_Open\"]  = (df[\"Dubai_Open\"]  * 0.75) + (df[\"Brent_Open\"]  * 0.25)\n",
    "df[\"ICB_High\"]  = (df[\"Dubai_High\"]  * 0.75) + (df[\"Brent_High\"]  * 0.25)\n",
    "df[\"ICB_Low\"]   = (df[\"Dubai_Low\"]   * 0.75) + (df[\"Brent_Low\"]   * 0.25)\n",
    "df[\"ICB_Close\"] = (df[\"Dubai_Close\"] * 0.75) + (df[\"Brent_Close\"] * 0.25)\n",
    "\n",
    "# --- Final Master Sheet: only ICB OHLC ---\n",
    "icb = df[[\"ICB_Open\", \"ICB_High\", \"ICB_Low\", \"ICB_Close\"]]"
   ]
  },
  {
   "cell_type": "code",
   "execution_count": 7,
   "id": "7281c45d",
   "metadata": {},
   "outputs": [
    {
     "name": "stdout",
     "output_type": "stream",
     "text": [
      "✅ Master sheet created: Indian_Crude_Basket_OHLC.csv\n",
      "            ICB_Open  ICB_High  ICB_Low  ICB_Close\n",
      "Date                                              \n",
      "04-01-2016   35.4050   35.8025  35.2500    35.3600\n",
      "06-01-2016   43.6500   43.6500  43.0050    43.0275\n",
      "07-01-2016   42.9575   43.0100  42.3725    42.7650\n",
      "08-01-2016   37.6400   37.8725  37.3875    37.5775\n",
      "11-01-2016   41.8000   41.8550  41.3100    41.3975\n"
     ]
    }
   ],
   "source": [
    "# Save to CSV\n",
    "icb.to_csv(\"Indian_Crude_Basket_OHLC.csv\")\n",
    "\n",
    "print(\"✅ Master sheet created: Indian_Crude_Basket_OHLC.csv\")\n",
    "print(icb.head())"
   ]
  },
  {
   "cell_type": "code",
   "execution_count": 11,
   "id": "879e6469",
   "metadata": {},
   "outputs": [
    {
     "name": "stdout",
     "output_type": "stream",
     "text": [
      "✅ ICB successfully converted to INR and saved as Indian_Crude_Basket_INR_OHLC.csv\n",
      "               ICB_Open     ICB_High      ICB_Low    ICB_Close     USDINR\n",
      "Date                                                                     \n",
      "2016-04-01  2345.510504  2371.844087  2335.242019  2342.529339  66.248001\n",
      "2016-06-01  2934.633293  2934.633293  2891.269265  2892.781966  67.231003\n",
      "2016-07-01  2899.674192  2903.217979  2860.186104  2886.680242  67.500999\n",
      "2016-08-01  2508.630806  2524.126472  2491.802213  2504.465306  66.648003\n",
      "2016-11-01  2786.617765  2790.284387  2753.951687  2759.784892  66.665497\n"
     ]
    }
   ],
   "source": [
    "# Use already loaded icb and usdinr variables from the notebook\n",
    "\n",
    "# Make sure the usdinr DataFrame has a single column named 'USDINR'\n",
    "usdinr_rename = usdinr.rename(columns={\"USDINR=X\": \"USDINR\"})\n",
    "\n",
    "# Merge ICB with USD/INR on the index (Date)\n",
    "df_icb_inr = icb.join(usdinr_rename, how=\"inner\")\n",
    "\n",
    "# Convert ICB USD → INR\n",
    "df_icb_inr[\"ICB_Open\"]  = df_icb_inr[\"ICB_Open\"]  * df_icb_inr[\"USDINR\"]\n",
    "df_icb_inr[\"ICB_High\"]  = df_icb_inr[\"ICB_High\"]  * df_icb_inr[\"USDINR\"]\n",
    "df_icb_inr[\"ICB_Low\"]   = df_icb_inr[\"ICB_Low\"]   * df_icb_inr[\"USDINR\"]\n",
    "df_icb_inr[\"ICB_Close\"] = df_icb_inr[\"ICB_Close\"] * df_icb_inr[\"USDINR\"]\n",
    "\n",
    "# Save to CSV\n",
    "df_icb_inr.to_csv(\"Indian_Crude_Basket_INR_OHLC.csv\")\n",
    "\n",
    "print(\"✅ ICB successfully converted to INR and saved as Indian_Crude_Basket_INR_OHLC.csv\")\n",
    "print(df_icb_inr.head())\n"
   ]
  }
 ],
 "metadata": {
  "language_info": {
   "name": "python"
  }
 },
 "nbformat": 4,
 "nbformat_minor": 5
}
