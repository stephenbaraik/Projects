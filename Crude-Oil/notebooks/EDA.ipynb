{
 "cells": [
  {
   "cell_type": "code",
   "execution_count": 16,
   "id": "c9bcb3e2",
   "metadata": {},
   "outputs": [],
   "source": [
    "import pandas as pd\n",
    "import numpy as np\n",
    "import matplotlib.pyplot as plt\n",
    "import seaborn as sns\n"
   ]
  },
  {
   "cell_type": "code",
   "execution_count": 17,
   "id": "4d4b7acf",
   "metadata": {},
   "outputs": [],
   "source": [
    "# Load datasets\n",
    "brent = pd.read_csv(r\"C:\\Users\\Stevi\\OneDrive\\Documents\\Projects\\Crude-Oil\\Data ingestion\\brent_inr.csv\")\n",
    "wti = pd.read_csv(r\"C:\\Users\\Stevi\\OneDrive\\Documents\\Projects\\Crude-Oil\\Data ingestion\\wti_inr.csv\")\n",
    "\n",
    "nifty50 = pd.read_csv(r\"C:\\Users\\Stevi\\OneDrive\\Documents\\Projects\\Crude-Oil\\Data ingestion\\Nifty50.csv\")\n",
    "nifty100 = pd.read_csv(r\"C:\\Users\\Stevi\\OneDrive\\Documents\\Projects\\Crude-Oil\\Data ingestion\\Nifty100.csv\")\n",
    "nifty200 = pd.read_csv(r\"C:\\Users\\Stevi\\OneDrive\\Documents\\Projects\\Crude-Oil\\Data ingestion\\Nifty200.csv\")\n",
    "nifty500 = pd.read_csv(r\"C:\\Users\\Stevi\\OneDrive\\Documents\\Projects\\Crude-Oil\\Data ingestion\\Nifty500.csv\")"
   ]
  },
  {
   "cell_type": "code",
   "execution_count": 18,
   "id": "82536024",
   "metadata": {},
   "outputs": [],
   "source": [
    "# Preview top rows and columns\n",
    "datasets = {\n",
    "    \"Brent\": brent,\n",
    "    \"WTI\": wti,\n",
    "    \"Nifty50\": nifty50,\n",
    "    \"Nifty100\": nifty100,\n",
    "    \"Nifty200\": nifty200,\n",
    "    \"Nifty500\": nifty500\n",
    "}"
   ]
  },
  {
   "cell_type": "code",
   "execution_count": 19,
   "id": "b0c9bc42",
   "metadata": {},
   "outputs": [
    {
     "name": "stdout",
     "output_type": "stream",
     "text": [
      "\n",
      "📁 Brent — Shape: (384, 6)\n",
      "         Date    Close     High      Low     Open     Volume\n",
      "0  2024-01-02  6314.25  6576.33  6290.12  6424.07  2378845.5\n",
      "1  2024-01-03  6318.37  6580.63  6294.23  6428.27  2380401.0\n",
      "2  2024-01-04  6323.01  6585.46  6298.85  6432.99  2382147.8\n",
      "\n",
      "📁 WTI — Shape: (384, 6)\n",
      "         Date    Close     High      Low     Open       Volume\n",
      "0  2024-01-02  5855.80  6127.04  5829.17  5966.46  27539394.51\n",
      "1  2024-01-03  5859.63  6131.05  5832.99  5970.36  27557402.20\n",
      "2  2024-01-04  5863.93  6135.54  5837.27  5974.74  27577624.55\n",
      "\n",
      "📁 Nifty50 — Shape: (3079, 8)\n",
      "         Date   ^NSEI_Open   ^NSEI_High    ^NSEI_Low  ^NSEI_Close  \\\n",
      "0  2013-01-02  5982.600098  6006.049805  5982.000000  5993.250000   \n",
      "1  2013-01-03  6015.799805  6017.000000  5986.549805  6009.500000   \n",
      "2  2013-01-04  6011.950195  6020.750000  5981.549805  6016.149902   \n",
      "\n",
      "   ^NSEI_Adj Close  ^NSEI_Volume   Ticker  \n",
      "0      5993.250000             0  Nifty50  \n",
      "1      6009.500000             0  Nifty50  \n",
      "2      6016.149902             0  Nifty50  \n",
      "\n",
      "📁 Nifty100 — Shape: (3083, 8)\n",
      "         Date  ^CNX100_Open  ^CNX100_High  ^CNX100_Low  ^CNX100_Close  \\\n",
      "0  2013-01-01   5875.149902   5908.000000  5875.149902    5896.899902   \n",
      "1  2013-01-02   5923.950195   5952.299805  5923.950195    5938.200195   \n",
      "2  2013-01-03   5957.399902   5962.000000  5931.600098    5956.549805   \n",
      "\n",
      "   ^CNX100_Adj Close  ^CNX100_Volume    Ticker  \n",
      "0        5896.899902         1590200  Nifty100  \n",
      "1        5938.200195         2161100  Nifty100  \n",
      "2        5956.549805         2089100  Nifty100  \n",
      "\n",
      "📁 Nifty200 — Shape: (3088, 8)\n",
      "         Date  ^CNX200_Open  ^CNX200_High  ^CNX200_Low  ^CNX200_Close  \\\n",
      "0  2013-01-01   3039.000000   3058.199951  3039.000000    3053.000000   \n",
      "1  2013-01-02   3065.550049   3081.800049  3065.550049    3074.000000   \n",
      "2  2013-01-03   3082.949951   3087.500000  3070.850098    3084.600098   \n",
      "\n",
      "   ^CNX200_Adj Close  ^CNX200_Volume    Ticker  \n",
      "0        3053.000000               0  Nifty200  \n",
      "1        3074.000000               0  Nifty200  \n",
      "2        3084.600098               0  Nifty200  \n",
      "\n",
      "📁 Nifty500 — Shape: (3083, 8)\n",
      "         Date  ^CRSLDX_Open  ^CRSLDX_High  ^CRSLDX_Low  ^CRSLDX_Close  \\\n",
      "0  2013-01-01   4761.799805   4792.899902  4761.799805    4786.200195   \n",
      "1  2013-01-02   4804.149902   4830.899902  4804.149902    4818.899902   \n",
      "2  2013-01-03   4831.649902   4839.850098  4814.799805    4835.700195   \n",
      "\n",
      "   ^CRSLDX_Adj Close  ^CRSLDX_Volume    Ticker  \n",
      "0        4786.193848         4631300  Nifty500  \n",
      "1        4818.893555         6137400  Nifty500  \n",
      "2        4835.693848         6407600  Nifty500  \n"
     ]
    }
   ],
   "source": [
    "for name, df in datasets.items():\n",
    "    print(f\"\\n📁 {name} — Shape: {df.shape}\")\n",
    "    print(df.head(3))"
   ]
  },
  {
   "cell_type": "code",
   "execution_count": 20,
   "id": "c72d2252",
   "metadata": {},
   "outputs": [
    {
     "ename": "KeyError",
     "evalue": "\"['BZ=F_Close'] not in index\"",
     "output_type": "error",
     "traceback": [
      "\u001b[31m---------------------------------------------------------------------------\u001b[39m",
      "\u001b[31mKeyError\u001b[39m                                  Traceback (most recent call last)",
      "\u001b[36mCell\u001b[39m\u001b[36m \u001b[39m\u001b[32mIn[20]\u001b[39m\u001b[32m, line 2\u001b[39m\n\u001b[32m      1\u001b[39m \u001b[38;5;66;03m# Clean and rename\u001b[39;00m\n\u001b[32m----> \u001b[39m\u001b[32m2\u001b[39m brent = \u001b[43mbrent\u001b[49m\u001b[43m[\u001b[49m\u001b[43m[\u001b[49m\u001b[33;43m\"\u001b[39;49m\u001b[33;43mDate\u001b[39;49m\u001b[33;43m\"\u001b[39;49m\u001b[43m,\u001b[49m\u001b[43m \u001b[49m\u001b[33;43m\"\u001b[39;49m\u001b[33;43mBZ=F_Close\u001b[39;49m\u001b[33;43m\"\u001b[39;49m\u001b[43m]\u001b[49m\u001b[43m]\u001b[49m.rename(columns={\u001b[33m\"\u001b[39m\u001b[33mClose\u001b[39m\u001b[33m\"\u001b[39m: \u001b[33m\"\u001b[39m\u001b[33mbrent_price\u001b[39m\u001b[33m\"\u001b[39m})\n\u001b[32m      3\u001b[39m nifty50 = nifty50[[\u001b[33m\"\u001b[39m\u001b[33mDate\u001b[39m\u001b[33m\"\u001b[39m, \u001b[33m\"\u001b[39m\u001b[33m^NSEI_Close\u001b[39m\u001b[33m\"\u001b[39m]].rename(columns={\u001b[33m\"\u001b[39m\u001b[33mClose\u001b[39m\u001b[33m\"\u001b[39m: \u001b[33m\"\u001b[39m\u001b[33mnifty_price\u001b[39m\u001b[33m\"\u001b[39m})\n",
      "\u001b[36mFile \u001b[39m\u001b[32mc:\\Users\\Stevi\\OneDrive\\Documents\\Projects\\.venv\\Lib\\site-packages\\pandas\\core\\frame.py:4113\u001b[39m, in \u001b[36mDataFrame.__getitem__\u001b[39m\u001b[34m(self, key)\u001b[39m\n\u001b[32m   4111\u001b[39m     \u001b[38;5;28;01mif\u001b[39;00m is_iterator(key):\n\u001b[32m   4112\u001b[39m         key = \u001b[38;5;28mlist\u001b[39m(key)\n\u001b[32m-> \u001b[39m\u001b[32m4113\u001b[39m     indexer = \u001b[38;5;28;43mself\u001b[39;49m\u001b[43m.\u001b[49m\u001b[43mcolumns\u001b[49m\u001b[43m.\u001b[49m\u001b[43m_get_indexer_strict\u001b[49m\u001b[43m(\u001b[49m\u001b[43mkey\u001b[49m\u001b[43m,\u001b[49m\u001b[43m \u001b[49m\u001b[33;43m\"\u001b[39;49m\u001b[33;43mcolumns\u001b[39;49m\u001b[33;43m\"\u001b[39;49m\u001b[43m)\u001b[49m[\u001b[32m1\u001b[39m]\n\u001b[32m   4115\u001b[39m \u001b[38;5;66;03m# take() does not accept boolean indexers\u001b[39;00m\n\u001b[32m   4116\u001b[39m \u001b[38;5;28;01mif\u001b[39;00m \u001b[38;5;28mgetattr\u001b[39m(indexer, \u001b[33m\"\u001b[39m\u001b[33mdtype\u001b[39m\u001b[33m\"\u001b[39m, \u001b[38;5;28;01mNone\u001b[39;00m) == \u001b[38;5;28mbool\u001b[39m:\n",
      "\u001b[36mFile \u001b[39m\u001b[32mc:\\Users\\Stevi\\OneDrive\\Documents\\Projects\\.venv\\Lib\\site-packages\\pandas\\core\\indexes\\base.py:6212\u001b[39m, in \u001b[36mIndex._get_indexer_strict\u001b[39m\u001b[34m(self, key, axis_name)\u001b[39m\n\u001b[32m   6209\u001b[39m \u001b[38;5;28;01melse\u001b[39;00m:\n\u001b[32m   6210\u001b[39m     keyarr, indexer, new_indexer = \u001b[38;5;28mself\u001b[39m._reindex_non_unique(keyarr)\n\u001b[32m-> \u001b[39m\u001b[32m6212\u001b[39m \u001b[38;5;28;43mself\u001b[39;49m\u001b[43m.\u001b[49m\u001b[43m_raise_if_missing\u001b[49m\u001b[43m(\u001b[49m\u001b[43mkeyarr\u001b[49m\u001b[43m,\u001b[49m\u001b[43m \u001b[49m\u001b[43mindexer\u001b[49m\u001b[43m,\u001b[49m\u001b[43m \u001b[49m\u001b[43maxis_name\u001b[49m\u001b[43m)\u001b[49m\n\u001b[32m   6214\u001b[39m keyarr = \u001b[38;5;28mself\u001b[39m.take(indexer)\n\u001b[32m   6215\u001b[39m \u001b[38;5;28;01mif\u001b[39;00m \u001b[38;5;28misinstance\u001b[39m(key, Index):\n\u001b[32m   6216\u001b[39m     \u001b[38;5;66;03m# GH 42790 - Preserve name from an Index\u001b[39;00m\n",
      "\u001b[36mFile \u001b[39m\u001b[32mc:\\Users\\Stevi\\OneDrive\\Documents\\Projects\\.venv\\Lib\\site-packages\\pandas\\core\\indexes\\base.py:6264\u001b[39m, in \u001b[36mIndex._raise_if_missing\u001b[39m\u001b[34m(self, key, indexer, axis_name)\u001b[39m\n\u001b[32m   6261\u001b[39m     \u001b[38;5;28;01mraise\u001b[39;00m \u001b[38;5;167;01mKeyError\u001b[39;00m(\u001b[33mf\u001b[39m\u001b[33m\"\u001b[39m\u001b[33mNone of [\u001b[39m\u001b[38;5;132;01m{\u001b[39;00mkey\u001b[38;5;132;01m}\u001b[39;00m\u001b[33m] are in the [\u001b[39m\u001b[38;5;132;01m{\u001b[39;00maxis_name\u001b[38;5;132;01m}\u001b[39;00m\u001b[33m]\u001b[39m\u001b[33m\"\u001b[39m)\n\u001b[32m   6263\u001b[39m not_found = \u001b[38;5;28mlist\u001b[39m(ensure_index(key)[missing_mask.nonzero()[\u001b[32m0\u001b[39m]].unique())\n\u001b[32m-> \u001b[39m\u001b[32m6264\u001b[39m \u001b[38;5;28;01mraise\u001b[39;00m \u001b[38;5;167;01mKeyError\u001b[39;00m(\u001b[33mf\u001b[39m\u001b[33m\"\u001b[39m\u001b[38;5;132;01m{\u001b[39;00mnot_found\u001b[38;5;132;01m}\u001b[39;00m\u001b[33m not in index\u001b[39m\u001b[33m\"\u001b[39m)\n",
      "\u001b[31mKeyError\u001b[39m: \"['BZ=F_Close'] not in index\""
     ]
    }
   ],
   "source": [
    "# Clean and rename\n",
    "brent = brent[[\"Date\", \"BZ=F_Close\"]].rename(columns={\"Close\": \"brent_price\"})\n",
    "nifty50 = nifty50[[\"Date\", \"^NSEI_Close\"]].rename(columns={\"Close\": \"nifty_price\"})"
   ]
  },
  {
   "cell_type": "code",
   "execution_count": null,
   "id": "10c5aaa9",
   "metadata": {},
   "outputs": [],
   "source": [
    "# Merge on Date\n",
    "df = pd.merge(brent, nifty50, on=\"Date\")\n",
    "df = df.sort_values(\"Date\").dropna()"
   ]
  },
  {
   "cell_type": "code",
   "execution_count": null,
   "id": "bb0725ea",
   "metadata": {},
   "outputs": [
    {
     "data": {
      "text/html": [
       "<div>\n",
       "<style scoped>\n",
       "    .dataframe tbody tr th:only-of-type {\n",
       "        vertical-align: middle;\n",
       "    }\n",
       "\n",
       "    .dataframe tbody tr th {\n",
       "        vertical-align: top;\n",
       "    }\n",
       "\n",
       "    .dataframe thead th {\n",
       "        text-align: right;\n",
       "    }\n",
       "</style>\n",
       "<table border=\"1\" class=\"dataframe\">\n",
       "  <thead>\n",
       "    <tr style=\"text-align: right;\">\n",
       "      <th></th>\n",
       "      <th>Date</th>\n",
       "      <th>BZ=F_Close</th>\n",
       "      <th>^NSEI_Close</th>\n",
       "    </tr>\n",
       "  </thead>\n",
       "  <tbody>\n",
       "    <tr>\n",
       "      <th>0</th>\n",
       "      <td>2013-01-02</td>\n",
       "      <td>112.470001</td>\n",
       "      <td>5993.250000</td>\n",
       "    </tr>\n",
       "    <tr>\n",
       "      <th>1</th>\n",
       "      <td>2013-01-03</td>\n",
       "      <td>112.139999</td>\n",
       "      <td>6009.500000</td>\n",
       "    </tr>\n",
       "    <tr>\n",
       "      <th>2</th>\n",
       "      <td>2013-01-04</td>\n",
       "      <td>111.309998</td>\n",
       "      <td>6016.149902</td>\n",
       "    </tr>\n",
       "    <tr>\n",
       "      <th>3</th>\n",
       "      <td>2013-01-07</td>\n",
       "      <td>111.400002</td>\n",
       "      <td>5988.399902</td>\n",
       "    </tr>\n",
       "    <tr>\n",
       "      <th>4</th>\n",
       "      <td>2013-01-08</td>\n",
       "      <td>111.940002</td>\n",
       "      <td>6001.700195</td>\n",
       "    </tr>\n",
       "    <tr>\n",
       "      <th>...</th>\n",
       "      <td>...</td>\n",
       "      <td>...</td>\n",
       "      <td>...</td>\n",
       "    </tr>\n",
       "    <tr>\n",
       "      <th>2977</th>\n",
       "      <td>2025-07-09</td>\n",
       "      <td>70.190002</td>\n",
       "      <td>25476.099609</td>\n",
       "    </tr>\n",
       "    <tr>\n",
       "      <th>2978</th>\n",
       "      <td>2025-07-10</td>\n",
       "      <td>68.639999</td>\n",
       "      <td>25355.250000</td>\n",
       "    </tr>\n",
       "    <tr>\n",
       "      <th>2979</th>\n",
       "      <td>2025-07-11</td>\n",
       "      <td>70.360001</td>\n",
       "      <td>25149.849609</td>\n",
       "    </tr>\n",
       "    <tr>\n",
       "      <th>2980</th>\n",
       "      <td>2025-07-14</td>\n",
       "      <td>69.209999</td>\n",
       "      <td>25082.300781</td>\n",
       "    </tr>\n",
       "    <tr>\n",
       "      <th>2981</th>\n",
       "      <td>2025-07-15</td>\n",
       "      <td>69.040001</td>\n",
       "      <td>25223.699219</td>\n",
       "    </tr>\n",
       "  </tbody>\n",
       "</table>\n",
       "<p>2982 rows × 3 columns</p>\n",
       "</div>"
      ],
      "text/plain": [
       "            Date  BZ=F_Close   ^NSEI_Close\n",
       "0     2013-01-02  112.470001   5993.250000\n",
       "1     2013-01-03  112.139999   6009.500000\n",
       "2     2013-01-04  111.309998   6016.149902\n",
       "3     2013-01-07  111.400002   5988.399902\n",
       "4     2013-01-08  111.940002   6001.700195\n",
       "...          ...         ...           ...\n",
       "2977  2025-07-09   70.190002  25476.099609\n",
       "2978  2025-07-10   68.639999  25355.250000\n",
       "2979  2025-07-11   70.360001  25149.849609\n",
       "2980  2025-07-14   69.209999  25082.300781\n",
       "2981  2025-07-15   69.040001  25223.699219\n",
       "\n",
       "[2982 rows x 3 columns]"
      ]
     },
     "execution_count": 13,
     "metadata": {},
     "output_type": "execute_result"
    }
   ],
   "source": [
    "df"
   ]
  },
  {
   "cell_type": "code",
   "execution_count": null,
   "id": "beccce5f",
   "metadata": {},
   "outputs": [
    {
     "ename": "KeyError",
     "evalue": "'brent_price'",
     "output_type": "error",
     "traceback": [
      "\u001b[31m---------------------------------------------------------------------------\u001b[39m",
      "\u001b[31mKeyError\u001b[39m                                  Traceback (most recent call last)",
      "\u001b[36mFile \u001b[39m\u001b[32mc:\\Users\\Stevi\\OneDrive\\Documents\\Projects\\.venv\\Lib\\site-packages\\pandas\\core\\indexes\\base.py:3812\u001b[39m, in \u001b[36mIndex.get_loc\u001b[39m\u001b[34m(self, key)\u001b[39m\n\u001b[32m   3811\u001b[39m \u001b[38;5;28;01mtry\u001b[39;00m:\n\u001b[32m-> \u001b[39m\u001b[32m3812\u001b[39m     \u001b[38;5;28;01mreturn\u001b[39;00m \u001b[38;5;28;43mself\u001b[39;49m\u001b[43m.\u001b[49m\u001b[43m_engine\u001b[49m\u001b[43m.\u001b[49m\u001b[43mget_loc\u001b[49m\u001b[43m(\u001b[49m\u001b[43mcasted_key\u001b[49m\u001b[43m)\u001b[49m\n\u001b[32m   3813\u001b[39m \u001b[38;5;28;01mexcept\u001b[39;00m \u001b[38;5;167;01mKeyError\u001b[39;00m \u001b[38;5;28;01mas\u001b[39;00m err:\n",
      "\u001b[36mFile \u001b[39m\u001b[32mpandas/_libs/index.pyx:167\u001b[39m, in \u001b[36mpandas._libs.index.IndexEngine.get_loc\u001b[39m\u001b[34m()\u001b[39m\n",
      "\u001b[36mFile \u001b[39m\u001b[32mpandas/_libs/index.pyx:196\u001b[39m, in \u001b[36mpandas._libs.index.IndexEngine.get_loc\u001b[39m\u001b[34m()\u001b[39m\n",
      "\u001b[36mFile \u001b[39m\u001b[32mpandas/_libs/hashtable_class_helper.pxi:7088\u001b[39m, in \u001b[36mpandas._libs.hashtable.PyObjectHashTable.get_item\u001b[39m\u001b[34m()\u001b[39m\n",
      "\u001b[36mFile \u001b[39m\u001b[32mpandas/_libs/hashtable_class_helper.pxi:7096\u001b[39m, in \u001b[36mpandas._libs.hashtable.PyObjectHashTable.get_item\u001b[39m\u001b[34m()\u001b[39m\n",
      "\u001b[31mKeyError\u001b[39m: 'brent_price'",
      "\nThe above exception was the direct cause of the following exception:\n",
      "\u001b[31mKeyError\u001b[39m                                  Traceback (most recent call last)",
      "\u001b[36mCell\u001b[39m\u001b[36m \u001b[39m\u001b[32mIn[12]\u001b[39m\u001b[32m, line 2\u001b[39m\n\u001b[32m      1\u001b[39m \u001b[38;5;66;03m# Calculate returns and volatility\u001b[39;00m\n\u001b[32m----> \u001b[39m\u001b[32m2\u001b[39m df[\u001b[33m'\u001b[39m\u001b[33mbrent_ret\u001b[39m\u001b[33m'\u001b[39m] = \u001b[43mdf\u001b[49m\u001b[43m[\u001b[49m\u001b[33;43m'\u001b[39;49m\u001b[33;43mbrent_price\u001b[39;49m\u001b[33;43m'\u001b[39;49m\u001b[43m]\u001b[49m.pct_change()\n\u001b[32m      3\u001b[39m df[\u001b[33m'\u001b[39m\u001b[33mnifty_ret\u001b[39m\u001b[33m'\u001b[39m] = df[\u001b[33m'\u001b[39m\u001b[33mnifty_price\u001b[39m\u001b[33m'\u001b[39m].pct_change()\n\u001b[32m      4\u001b[39m df[\u001b[33m'\u001b[39m\u001b[33mbrent_vol_10d\u001b[39m\u001b[33m'\u001b[39m] = df[\u001b[33m'\u001b[39m\u001b[33mbrent_ret\u001b[39m\u001b[33m'\u001b[39m].rolling(\u001b[32m10\u001b[39m).std()\n",
      "\u001b[36mFile \u001b[39m\u001b[32mc:\\Users\\Stevi\\OneDrive\\Documents\\Projects\\.venv\\Lib\\site-packages\\pandas\\core\\frame.py:4107\u001b[39m, in \u001b[36mDataFrame.__getitem__\u001b[39m\u001b[34m(self, key)\u001b[39m\n\u001b[32m   4105\u001b[39m \u001b[38;5;28;01mif\u001b[39;00m \u001b[38;5;28mself\u001b[39m.columns.nlevels > \u001b[32m1\u001b[39m:\n\u001b[32m   4106\u001b[39m     \u001b[38;5;28;01mreturn\u001b[39;00m \u001b[38;5;28mself\u001b[39m._getitem_multilevel(key)\n\u001b[32m-> \u001b[39m\u001b[32m4107\u001b[39m indexer = \u001b[38;5;28;43mself\u001b[39;49m\u001b[43m.\u001b[49m\u001b[43mcolumns\u001b[49m\u001b[43m.\u001b[49m\u001b[43mget_loc\u001b[49m\u001b[43m(\u001b[49m\u001b[43mkey\u001b[49m\u001b[43m)\u001b[49m\n\u001b[32m   4108\u001b[39m \u001b[38;5;28;01mif\u001b[39;00m is_integer(indexer):\n\u001b[32m   4109\u001b[39m     indexer = [indexer]\n",
      "\u001b[36mFile \u001b[39m\u001b[32mc:\\Users\\Stevi\\OneDrive\\Documents\\Projects\\.venv\\Lib\\site-packages\\pandas\\core\\indexes\\base.py:3819\u001b[39m, in \u001b[36mIndex.get_loc\u001b[39m\u001b[34m(self, key)\u001b[39m\n\u001b[32m   3814\u001b[39m     \u001b[38;5;28;01mif\u001b[39;00m \u001b[38;5;28misinstance\u001b[39m(casted_key, \u001b[38;5;28mslice\u001b[39m) \u001b[38;5;129;01mor\u001b[39;00m (\n\u001b[32m   3815\u001b[39m         \u001b[38;5;28misinstance\u001b[39m(casted_key, abc.Iterable)\n\u001b[32m   3816\u001b[39m         \u001b[38;5;129;01mand\u001b[39;00m \u001b[38;5;28many\u001b[39m(\u001b[38;5;28misinstance\u001b[39m(x, \u001b[38;5;28mslice\u001b[39m) \u001b[38;5;28;01mfor\u001b[39;00m x \u001b[38;5;129;01min\u001b[39;00m casted_key)\n\u001b[32m   3817\u001b[39m     ):\n\u001b[32m   3818\u001b[39m         \u001b[38;5;28;01mraise\u001b[39;00m InvalidIndexError(key)\n\u001b[32m-> \u001b[39m\u001b[32m3819\u001b[39m     \u001b[38;5;28;01mraise\u001b[39;00m \u001b[38;5;167;01mKeyError\u001b[39;00m(key) \u001b[38;5;28;01mfrom\u001b[39;00m\u001b[38;5;250m \u001b[39m\u001b[34;01merr\u001b[39;00m\n\u001b[32m   3820\u001b[39m \u001b[38;5;28;01mexcept\u001b[39;00m \u001b[38;5;167;01mTypeError\u001b[39;00m:\n\u001b[32m   3821\u001b[39m     \u001b[38;5;66;03m# If we have a listlike key, _check_indexing_error will raise\u001b[39;00m\n\u001b[32m   3822\u001b[39m     \u001b[38;5;66;03m#  InvalidIndexError. Otherwise we fall through and re-raise\u001b[39;00m\n\u001b[32m   3823\u001b[39m     \u001b[38;5;66;03m#  the TypeError.\u001b[39;00m\n\u001b[32m   3824\u001b[39m     \u001b[38;5;28mself\u001b[39m._check_indexing_error(key)\n",
      "\u001b[31mKeyError\u001b[39m: 'brent_price'"
     ]
    }
   ],
   "source": [
    "# Calculate returns and volatility\n",
    "df['brent_ret'] = df['brent_price'].pct_change()\n",
    "df['nifty_ret'] = df['nifty_price'].pct_change()\n",
    "df['brent_vol_10d'] = df['brent_ret'].rolling(10).std()\n",
    "df['nifty_vol_10d'] = df['nifty_ret'].rolling(10).std()\n",
    "df = df.dropna().reset_index(drop=True)"
   ]
  }
 ],
 "metadata": {
  "kernelspec": {
   "display_name": ".venv",
   "language": "python",
   "name": "python3"
  },
  "language_info": {
   "codemirror_mode": {
    "name": "ipython",
    "version": 3
   },
   "file_extension": ".py",
   "mimetype": "text/x-python",
   "name": "python",
   "nbconvert_exporter": "python",
   "pygments_lexer": "ipython3",
   "version": "3.11.9"
  }
 },
 "nbformat": 4,
 "nbformat_minor": 5
}
