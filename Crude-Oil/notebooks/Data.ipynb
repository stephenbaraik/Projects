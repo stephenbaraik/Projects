{
 "cells": [
  {
   "cell_type": "code",
   "execution_count": 55,
   "id": "18994b90",
   "metadata": {},
   "outputs": [],
   "source": [
    "import pandas as pd\n",
    "import numpy as np\n",
    "import yfinance as yf\n",
    "from datetime import datetime\n",
    "import os"
   ]
  },
  {
   "cell_type": "code",
   "execution_count": 56,
   "id": "e7064b96",
   "metadata": {},
   "outputs": [
    {
     "name": "stdout",
     "output_type": "stream",
     "text": [
      "Fetching: Nifty50 (^NSEI)\n"
     ]
    },
    {
     "name": "stderr",
     "output_type": "stream",
     "text": [
      "[*********************100%***********************]  1 of 1 completed\n"
     ]
    },
    {
     "name": "stdout",
     "output_type": "stream",
     "text": [
      "✅ Saved: C:\\Users\\Stevi\\OneDrive\\Documents\\Projects\\Crude-Oil\\Data ingestion\\Nifty50.csv\n",
      "Fetching: Nifty100 (^CNX100)\n"
     ]
    },
    {
     "name": "stderr",
     "output_type": "stream",
     "text": [
      "[*********************100%***********************]  1 of 1 completed\n"
     ]
    },
    {
     "name": "stdout",
     "output_type": "stream",
     "text": [
      "✅ Saved: C:\\Users\\Stevi\\OneDrive\\Documents\\Projects\\Crude-Oil\\Data ingestion\\Nifty100.csv\n",
      "Fetching: Nifty200 (^CNX200)\n"
     ]
    },
    {
     "name": "stderr",
     "output_type": "stream",
     "text": [
      "[*********************100%***********************]  1 of 1 completed\n"
     ]
    },
    {
     "name": "stdout",
     "output_type": "stream",
     "text": [
      "✅ Saved: C:\\Users\\Stevi\\OneDrive\\Documents\\Projects\\Crude-Oil\\Data ingestion\\Nifty200.csv\n",
      "Fetching: Nifty500 (^CRSLDX)\n"
     ]
    },
    {
     "name": "stderr",
     "output_type": "stream",
     "text": [
      "[*********************100%***********************]  1 of 1 completed"
     ]
    },
    {
     "name": "stdout",
     "output_type": "stream",
     "text": [
      "✅ Saved: C:\\Users\\Stevi\\OneDrive\\Documents\\Projects\\Crude-Oil\\Data ingestion\\Nifty500.csv\n"
     ]
    },
    {
     "name": "stderr",
     "output_type": "stream",
     "text": [
      "\n"
     ]
    }
   ],
   "source": [
    "# Define index tickers\n",
    "tickers = {\n",
    "    \"Nifty50\": \"^NSEI\",\n",
    "    \"Nifty100\": \"^CNX100\",\n",
    "    \"Nifty200\": \"^CNX200\",\n",
    "    \"Nifty500\": \"^CRSLDX\"  # or \"^CNX500\"\n",
    "}\n",
    "\n",
    "# Output folder\n",
    "output_folder = r\"C:\\Users\\Stevi\\OneDrive\\Documents\\Projects\\Crude-Oil\\Data ingestion\"\n",
    "os.makedirs(output_folder, exist_ok=True)\n",
    "\n",
    "# Target columns\n",
    "standard_columns = ['Open', 'High', 'Low', 'Close', 'Adj Close', 'Volume']\n",
    "\n",
    "# Function to fix and rename columns\n",
    "def fix_columns(df):\n",
    "    if isinstance(df.columns, pd.MultiIndex):\n",
    "        # Check if second level has expected names like 'Open', else try first level\n",
    "        level0 = df.columns.get_level_values(0)\n",
    "        level1 = df.columns.get_level_values(1)\n",
    "        if any(l in standard_columns for l in level1):\n",
    "            df.columns = level1\n",
    "        elif any(l in standard_columns for l in level0):\n",
    "            df.columns = level0\n",
    "        else:\n",
    "            # fallback to numbered columns\n",
    "            df.columns = standard_columns[:len(df.columns)]\n",
    "\n",
    "    df = df.reset_index()\n",
    "    return df\n",
    "\n",
    "# Fetch and clean data\n",
    "def fetch_and_clean(ticker_symbol, name):\n",
    "    print(f\"Fetching: {name} ({ticker_symbol})\")\n",
    "    df = yf.download(ticker_symbol, start=\"2013-01-01\", auto_adjust=False)\n",
    "\n",
    "    if df.empty:\n",
    "        print(f\"⚠️ Warning: No data for {name}\")\n",
    "        return pd.DataFrame()\n",
    "\n",
    "    df = fix_columns(df)\n",
    "    df['Ticker'] = name\n",
    "\n",
    "    required = ['Date'] + standard_columns\n",
    "    missing = [col for col in required if col not in df.columns]\n",
    "    if missing:\n",
    "        raise ValueError(f\"❌ Missing expected columns in {name}: {missing}\")\n",
    "\n",
    "    df = df[required + ['Ticker']]\n",
    "    return df\n",
    "\n",
    "# Main loop\n",
    "for name, symbol in tickers.items():\n",
    "    try:\n",
    "        df = fetch_and_clean(symbol, name)\n",
    "        if not df.empty:\n",
    "            file_path = os.path.join(output_folder, f\"{name}.csv\")\n",
    "            df.to_csv(file_path, index=False)\n",
    "            print(f\"✅ Saved: {file_path}\")\n",
    "    except Exception as e:\n",
    "        print(str(e))"
   ]
  },
  {
   "cell_type": "code",
   "execution_count": 57,
   "id": "2befc57a",
   "metadata": {},
   "outputs": [
    {
     "name": "stderr",
     "output_type": "stream",
     "text": [
      "C:\\Users\\Stevi\\AppData\\Local\\Temp\\ipykernel_10040\\2361206918.py:10: FutureWarning: YF.download() has changed argument auto_adjust default to True\n",
      "  wti = yf.download(\"CL=F\", start=start_date, end=end_date)\n",
      "[*********************100%***********************]  1 of 1 completed\n",
      "C:\\Users\\Stevi\\AppData\\Local\\Temp\\ipykernel_10040\\2361206918.py:11: FutureWarning: YF.download() has changed argument auto_adjust default to True\n",
      "  brent = yf.download(\"BZ=F\", start=start_date, end=end_date)\n",
      "[*********************100%***********************]  1 of 1 completed\n",
      "C:\\Users\\Stevi\\AppData\\Local\\Temp\\ipykernel_10040\\2361206918.py:12: FutureWarning: YF.download() has changed argument auto_adjust default to True\n",
      "  usd_inr = yf.download(\"INR=X\", start=start_date, end=end_date)\n",
      "[*********************100%***********************]  1 of 1 completed"
     ]
    },
    {
     "name": "stdout",
     "output_type": "stream",
     "text": [
      "✅ Data saved with clean headers.\n"
     ]
    },
    {
     "name": "stderr",
     "output_type": "stream",
     "text": [
      "\n",
      "C:\\Users\\Stevi\\AppData\\Local\\Temp\\ipykernel_10040\\2361206918.py:27: PerformanceWarning: dropping on a non-lexsorted multi-index without a level parameter may impact performance.\n",
      "  numeric_cols = df_merged.select_dtypes(include='number').columns.drop(\"USDINR\")\n",
      "C:\\Users\\Stevi\\AppData\\Local\\Temp\\ipykernel_10040\\2361206918.py:31: PerformanceWarning: dropping on a non-lexsorted multi-index without a level parameter may impact performance.\n",
      "  return df_merged.drop(columns=[\"USDINR\"])\n",
      "C:\\Users\\Stevi\\AppData\\Local\\Temp\\ipykernel_10040\\2361206918.py:27: PerformanceWarning: dropping on a non-lexsorted multi-index without a level parameter may impact performance.\n",
      "  numeric_cols = df_merged.select_dtypes(include='number').columns.drop(\"USDINR\")\n",
      "C:\\Users\\Stevi\\AppData\\Local\\Temp\\ipykernel_10040\\2361206918.py:31: PerformanceWarning: dropping on a non-lexsorted multi-index without a level parameter may impact performance.\n",
      "  return df_merged.drop(columns=[\"USDINR\"])\n"
     ]
    }
   ],
   "source": [
    "# Date range\n",
    "start_date = \"2024-01-01\"\n",
    "end_date = \"2025-07-15\"\n",
    "\n",
    "# Output folder\n",
    "output_dir = r\"C:\\Users\\Stevi\\OneDrive\\Documents\\Projects\\Crude-Oil\\Data ingestion\"\n",
    "os.makedirs(output_dir, exist_ok=True)\n",
    "\n",
    "# Download data\n",
    "wti = yf.download(\"CL=F\", start=start_date, end=end_date)\n",
    "brent = yf.download(\"BZ=F\", start=start_date, end=end_date)\n",
    "usd_inr = yf.download(\"INR=X\", start=start_date, end=end_date)\n",
    "\n",
    "# Prepare USDINR Close column\n",
    "usd_inr = usd_inr[[\"Close\"]].rename(columns={\"Close\": \"USDINR\"})\n",
    "\n",
    "# Robust conversion function\n",
    "def convert_to_inr(df_usd, fx_df):\n",
    "    df = df_usd.copy()\n",
    "    \n",
    "    # Merge on date index\n",
    "    df_merged = df.merge(fx_df, how=\"inner\", left_index=True, right_index=True)\n",
    "    \n",
    "    usd_to_inr = df_merged[\"USDINR\"].values  # get values to avoid index alignment issues\n",
    "    \n",
    "    # Multiply only numeric columns\n",
    "    numeric_cols = df_merged.select_dtypes(include='number').columns.drop(\"USDINR\")\n",
    "    for col in numeric_cols:\n",
    "        df_merged[col] = (df_merged[col].values * usd_to_inr).round(2)\n",
    "    \n",
    "    return df_merged.drop(columns=[\"USDINR\"])\n",
    "\n",
    "# After conversion\n",
    "wti_inr = convert_to_inr(wti, usd_inr)\n",
    "brent_inr = convert_to_inr(brent, usd_inr)\n",
    "\n",
    "# Flatten column headers if needed\n",
    "for df in [wti_inr, brent_inr]:\n",
    "    if isinstance(df.columns[0], tuple):  # MultiIndex check\n",
    "        df.columns = [col[0] for col in df.columns]\n",
    "\n",
    "# Save to CSV\n",
    "wti_inr.to_csv(os.path.join(output_dir, \"wti_inr.csv\"), index=True)\n",
    "brent_inr.to_csv(os.path.join(output_dir, \"brent_inr.csv\"), index=True)\n",
    "\n",
    "print(\"✅ Data saved with clean headers.\")"
   ]
  }
 ],
 "metadata": {
  "kernelspec": {
   "display_name": ".venv",
   "language": "python",
   "name": "python3"
  },
  "language_info": {
   "codemirror_mode": {
    "name": "ipython",
    "version": 3
   },
   "file_extension": ".py",
   "mimetype": "text/x-python",
   "name": "python",
   "nbconvert_exporter": "python",
   "pygments_lexer": "ipython3",
   "version": "3.11.9"
  }
 },
 "nbformat": 4,
 "nbformat_minor": 5
}
