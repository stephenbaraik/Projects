{
 "cells": [
  {
   "cell_type": "code",
   "execution_count": 35,
   "id": "18994b90",
   "metadata": {},
   "outputs": [],
   "source": [
    "import pandas as pd\n",
    "import numpy as np\n",
    "import yfinance as yf\n",
    "from datetime import datetime\n",
    "import os"
   ]
  },
  {
   "cell_type": "code",
   "execution_count": 36,
   "id": "e7064b96",
   "metadata": {},
   "outputs": [
    {
     "name": "stderr",
     "output_type": "stream",
     "text": [
      "[*********************100%***********************]  1 of 1 completed\n",
      "[*********************100%***********************]  1 of 1 completed\n",
      "[*********************100%***********************]  1 of 1 completed\n",
      "[*********************100%***********************]  1 of 1 completed\n"
     ]
    }
   ],
   "source": [
    "# Define tickers (Yahoo Finance symbols)\n",
    "tickers = {\n",
    "    \"Nifty50\": \"^NSEI\",\n",
    "    \"Nifty100\": \"^CNX100\",\n",
    "    \"Nifty200\": \"^CNX200\",\n",
    "    \"Nifty500\": \"^CRSLDX\"  # alternative: \"^CNX500\"\n",
    "}\n",
    "\n",
    "# Function to flatten multi-index columns\n",
    "def flatten_columns(df):\n",
    "    if isinstance(df.columns, pd.MultiIndex):\n",
    "        df.columns = ['_'.join([str(c) for c in col if c and c != 'CL=F']).strip('_') for col in df.columns]\n",
    "    return df\n",
    "\n",
    "# Function to fetch and clean a ticker's data\n",
    "def fetch_and_clean(ticker_symbol, name):\n",
    "    df = yf.download(ticker_symbol, start=\"2013-01-01\", group_by=\"ticker\", auto_adjust=False)\n",
    "    df = flatten_columns(df)\n",
    "    df = df.reset_index()  # Make 'Date' a column\n",
    "    df['Date'] = pd.to_datetime(df['Date'])  # Ensure proper datetime\n",
    "    df[\"Ticker\"] = name\n",
    "    return df\n",
    "\n",
    "# Fetch all tickers into individual DataFrames\n",
    "df_nifty50 = fetch_and_clean(tickers[\"Nifty50\"], \"Nifty50\")\n",
    "df_nifty100 = fetch_and_clean(tickers[\"Nifty100\"], \"Nifty100\")\n",
    "df_nifty200 = fetch_and_clean(tickers[\"Nifty200\"], \"Nifty200\")\n",
    "df_nifty500 = fetch_and_clean(tickers[\"Nifty500\"], \"Nifty500\")\n",
    "\n",
    "# (Optional) Store in dictionary for easier programmatic use\n",
    "dfs = {\n",
    "    \"Nifty50\": df_nifty50,\n",
    "    \"Nifty100\": df_nifty100,\n",
    "    \"Nifty200\": df_nifty200,\n",
    "    \"Nifty500\": df_nifty500\n",
    "}"
   ]
  },
  {
   "cell_type": "code",
   "execution_count": 37,
   "id": "06f85a6b",
   "metadata": {},
   "outputs": [
    {
     "data": {
      "text/html": [
       "<div>\n",
       "<style scoped>\n",
       "    .dataframe tbody tr th:only-of-type {\n",
       "        vertical-align: middle;\n",
       "    }\n",
       "\n",
       "    .dataframe tbody tr th {\n",
       "        vertical-align: top;\n",
       "    }\n",
       "\n",
       "    .dataframe thead th {\n",
       "        text-align: right;\n",
       "    }\n",
       "</style>\n",
       "<table border=\"1\" class=\"dataframe\">\n",
       "  <thead>\n",
       "    <tr style=\"text-align: right;\">\n",
       "      <th></th>\n",
       "      <th>Date</th>\n",
       "      <th>Open</th>\n",
       "      <th>High</th>\n",
       "      <th>Low</th>\n",
       "      <th>Close</th>\n",
       "      <th>Adj Close</th>\n",
       "      <th>Volume</th>\n",
       "      <th>Ticker</th>\n",
       "    </tr>\n",
       "  </thead>\n",
       "  <tbody>\n",
       "    <tr>\n",
       "      <th>0</th>\n",
       "      <td>2013-01-02</td>\n",
       "      <td>91.779999</td>\n",
       "      <td>93.870003</td>\n",
       "      <td>91.559998</td>\n",
       "      <td>93.120003</td>\n",
       "      <td>93.120003</td>\n",
       "      <td>203865</td>\n",
       "      <td>WTI</td>\n",
       "    </tr>\n",
       "    <tr>\n",
       "      <th>1</th>\n",
       "      <td>2013-01-03</td>\n",
       "      <td>92.910004</td>\n",
       "      <td>93.300003</td>\n",
       "      <td>92.489998</td>\n",
       "      <td>92.919998</td>\n",
       "      <td>92.919998</td>\n",
       "      <td>189812</td>\n",
       "      <td>WTI</td>\n",
       "    </tr>\n",
       "    <tr>\n",
       "      <th>2</th>\n",
       "      <td>2013-01-04</td>\n",
       "      <td>92.860001</td>\n",
       "      <td>93.209999</td>\n",
       "      <td>91.519997</td>\n",
       "      <td>93.089996</td>\n",
       "      <td>93.089996</td>\n",
       "      <td>210747</td>\n",
       "      <td>WTI</td>\n",
       "    </tr>\n",
       "    <tr>\n",
       "      <th>3</th>\n",
       "      <td>2013-01-07</td>\n",
       "      <td>93.209999</td>\n",
       "      <td>93.349998</td>\n",
       "      <td>92.419998</td>\n",
       "      <td>93.190002</td>\n",
       "      <td>93.190002</td>\n",
       "      <td>166292</td>\n",
       "      <td>WTI</td>\n",
       "    </tr>\n",
       "    <tr>\n",
       "      <th>4</th>\n",
       "      <td>2013-01-08</td>\n",
       "      <td>93.320000</td>\n",
       "      <td>93.800003</td>\n",
       "      <td>92.669998</td>\n",
       "      <td>93.150002</td>\n",
       "      <td>93.150002</td>\n",
       "      <td>195867</td>\n",
       "      <td>WTI</td>\n",
       "    </tr>\n",
       "  </tbody>\n",
       "</table>\n",
       "</div>"
      ],
      "text/plain": [
       "        Date       Open       High        Low      Close  Adj Close  Volume  \\\n",
       "0 2013-01-02  91.779999  93.870003  91.559998  93.120003  93.120003  203865   \n",
       "1 2013-01-03  92.910004  93.300003  92.489998  92.919998  92.919998  189812   \n",
       "2 2013-01-04  92.860001  93.209999  91.519997  93.089996  93.089996  210747   \n",
       "3 2013-01-07  93.209999  93.349998  92.419998  93.190002  93.190002  166292   \n",
       "4 2013-01-08  93.320000  93.800003  92.669998  93.150002  93.150002  195867   \n",
       "\n",
       "  Ticker  \n",
       "0    WTI  \n",
       "1    WTI  \n",
       "2    WTI  \n",
       "3    WTI  \n",
       "4    WTI  "
      ]
     },
     "execution_count": 37,
     "metadata": {},
     "output_type": "execute_result"
    }
   ],
   "source": [
    "df_wti.head()  # Display the first few rows of the WTI DataFrame for verification"
   ]
  },
  {
   "cell_type": "code",
   "execution_count": 38,
   "id": "792e62a5",
   "metadata": {},
   "outputs": [],
   "source": [
    "output_folder = r\"C:\\Users\\Stevi\\OneDrive\\Documents\\Projects\\Crude-Oil\\Data ingestion\"  # replace with your actual folder path\n",
    "os.makedirs(output_folder, exist_ok=True)  # create the folder if it doesn't exist\n",
    "\n",
    "for name, df in dfs.items():\n",
    "    file_path = os.path.join(output_folder, f\"{name}.csv\")\n",
    "    df.to_csv(file_path, index=False)"
   ]
  },
  {
   "cell_type": "code",
   "execution_count": 39,
   "id": "2befc57a",
   "metadata": {},
   "outputs": [
    {
     "name": "stderr",
     "output_type": "stream",
     "text": [
      "C:\\Users\\Stevi\\AppData\\Local\\Temp\\ipykernel_10040\\2361206918.py:10: FutureWarning: YF.download() has changed argument auto_adjust default to True\n",
      "  wti = yf.download(\"CL=F\", start=start_date, end=end_date)\n",
      "[*********************100%***********************]  1 of 1 completed"
     ]
    },
    {
     "name": "stderr",
     "output_type": "stream",
     "text": [
      "\n",
      "C:\\Users\\Stevi\\AppData\\Local\\Temp\\ipykernel_10040\\2361206918.py:11: FutureWarning: YF.download() has changed argument auto_adjust default to True\n",
      "  brent = yf.download(\"BZ=F\", start=start_date, end=end_date)\n",
      "[*********************100%***********************]  1 of 1 completed\n",
      "C:\\Users\\Stevi\\AppData\\Local\\Temp\\ipykernel_10040\\2361206918.py:12: FutureWarning: YF.download() has changed argument auto_adjust default to True\n",
      "  usd_inr = yf.download(\"INR=X\", start=start_date, end=end_date)\n",
      "[*********************100%***********************]  1 of 1 completed"
     ]
    },
    {
     "name": "stdout",
     "output_type": "stream",
     "text": [
      "✅ Data saved with clean headers.\n"
     ]
    },
    {
     "name": "stderr",
     "output_type": "stream",
     "text": [
      "\n",
      "C:\\Users\\Stevi\\AppData\\Local\\Temp\\ipykernel_10040\\2361206918.py:27: PerformanceWarning: dropping on a non-lexsorted multi-index without a level parameter may impact performance.\n",
      "  numeric_cols = df_merged.select_dtypes(include='number').columns.drop(\"USDINR\")\n",
      "C:\\Users\\Stevi\\AppData\\Local\\Temp\\ipykernel_10040\\2361206918.py:31: PerformanceWarning: dropping on a non-lexsorted multi-index without a level parameter may impact performance.\n",
      "  return df_merged.drop(columns=[\"USDINR\"])\n",
      "C:\\Users\\Stevi\\AppData\\Local\\Temp\\ipykernel_10040\\2361206918.py:27: PerformanceWarning: dropping on a non-lexsorted multi-index without a level parameter may impact performance.\n",
      "  numeric_cols = df_merged.select_dtypes(include='number').columns.drop(\"USDINR\")\n",
      "C:\\Users\\Stevi\\AppData\\Local\\Temp\\ipykernel_10040\\2361206918.py:31: PerformanceWarning: dropping on a non-lexsorted multi-index without a level parameter may impact performance.\n",
      "  return df_merged.drop(columns=[\"USDINR\"])\n"
     ]
    }
   ],
   "source": [
    "# Date range\n",
    "start_date = \"2024-01-01\"\n",
    "end_date = \"2025-07-15\"\n",
    "\n",
    "# Output folder\n",
    "output_dir = r\"C:\\Users\\Stevi\\OneDrive\\Documents\\Projects\\Crude-Oil\\Data ingestion\"\n",
    "os.makedirs(output_dir, exist_ok=True)\n",
    "\n",
    "# Download data\n",
    "wti = yf.download(\"CL=F\", start=start_date, end=end_date)\n",
    "brent = yf.download(\"BZ=F\", start=start_date, end=end_date)\n",
    "usd_inr = yf.download(\"INR=X\", start=start_date, end=end_date)\n",
    "\n",
    "# Prepare USDINR Close column\n",
    "usd_inr = usd_inr[[\"Close\"]].rename(columns={\"Close\": \"USDINR\"})\n",
    "\n",
    "# Robust conversion function\n",
    "def convert_to_inr(df_usd, fx_df):\n",
    "    df = df_usd.copy()\n",
    "    \n",
    "    # Merge on date index\n",
    "    df_merged = df.merge(fx_df, how=\"inner\", left_index=True, right_index=True)\n",
    "    \n",
    "    usd_to_inr = df_merged[\"USDINR\"].values  # get values to avoid index alignment issues\n",
    "    \n",
    "    # Multiply only numeric columns\n",
    "    numeric_cols = df_merged.select_dtypes(include='number').columns.drop(\"USDINR\")\n",
    "    for col in numeric_cols:\n",
    "        df_merged[col] = (df_merged[col].values * usd_to_inr).round(2)\n",
    "    \n",
    "    return df_merged.drop(columns=[\"USDINR\"])\n",
    "\n",
    "# After conversion\n",
    "wti_inr = convert_to_inr(wti, usd_inr)\n",
    "brent_inr = convert_to_inr(brent, usd_inr)\n",
    "\n",
    "# Flatten column headers if needed\n",
    "for df in [wti_inr, brent_inr]:\n",
    "    if isinstance(df.columns[0], tuple):  # MultiIndex check\n",
    "        df.columns = [col[0] for col in df.columns]\n",
    "\n",
    "# Save to CSV\n",
    "wti_inr.to_csv(os.path.join(output_dir, \"wti_inr.csv\"), index=True)\n",
    "brent_inr.to_csv(os.path.join(output_dir, \"brent_inr.csv\"), index=True)\n",
    "\n",
    "print(\"✅ Data saved with clean headers.\")"
   ]
  }
 ],
 "metadata": {
  "kernelspec": {
   "display_name": ".venv",
   "language": "python",
   "name": "python3"
  },
  "language_info": {
   "codemirror_mode": {
    "name": "ipython",
    "version": 3
   },
   "file_extension": ".py",
   "mimetype": "text/x-python",
   "name": "python",
   "nbconvert_exporter": "python",
   "pygments_lexer": "ipython3",
   "version": "3.11.9"
  }
 },
 "nbformat": 4,
 "nbformat_minor": 5
}
